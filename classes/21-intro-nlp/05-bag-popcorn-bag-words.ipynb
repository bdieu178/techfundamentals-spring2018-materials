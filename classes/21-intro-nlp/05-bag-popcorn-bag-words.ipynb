{
 "cells": [
  {
   "cell_type": "markdown",
   "metadata": {},
   "source": [
    "[![AnalyticsDojo](https://s3.amazonaws.com/analyticsdojo/logo/final-logo.png)](http://rpi.analyticsdojo.com)\n",
    "<center><h1>Bag of Words</h1></center>\n",
    "<center><h3><a href = 'http://rpi.analyticsdojo.com'>rpi.analyticsdojo.com</a></h3></center>"
   ]
  },
  {
   "cell_type": "markdown",
   "metadata": {},
   "source": [
    "This is adopted from: [Bag of Words Meets Bags of Popcorn](https://www.kaggle.com/c/word2vec-nlp-tutorial/details/part-1-for-beginners-bag-of-words)\n",
    "[https://github.com/wendykan/DeepLearningMovies](https://github.com/wendykan/DeepLearningMovies)\n"
   ]
  },
  {
   "cell_type": "code",
   "execution_count": 1,
   "metadata": {},
   "outputs": [],
   "source": [
    "import nltk\n",
    "import pandas as pd\n",
    "import numpy as np\n",
    "from bs4 import BeautifulSoup\n",
    "from nltk.corpus import stopwords"
   ]
  },
  {
   "cell_type": "code",
   "execution_count": 2,
   "metadata": {},
   "outputs": [],
   "source": [
    "train = pd.read_csv('../input/labeledTrainData.tsv', header=0, \\\n",
    "                    delimiter=\"\\t\", quoting=3)\n",
    "unlabeled_train= pd.read_csv('../input/unlabeledTrainData.tsv', header=0, \\\n",
    "                    delimiter=\"\\t\", quoting=3)\n",
    "test = pd.read_csv('../input/testData.tsv', header=0, \\\n",
    "                    delimiter=\"\\t\", quoting=3)"
   ]
  },
  {
   "cell_type": "code",
   "execution_count": 3,
   "metadata": {},
   "outputs": [],
   "source": [
    "import os\n",
    "from sklearn.feature_extraction.text import CountVectorizer\n",
    "from sklearn.ensemble import RandomForestClassifier\n",
    "import pandas as pd\n",
    "import numpy as np"
   ]
  },
  {
   "cell_type": "code",
   "execution_count": 4,
   "metadata": {},
   "outputs": [
    {
     "name": "stdout",
     "output_type": "stream",
     "text": [
      "['id' 'sentiment' 'review'] ['id' 'review']\n"
     ]
    }
   ],
   "source": [
    "print(train.columns.values, test.columns.values)"
   ]
  },
  {
   "cell_type": "code",
   "execution_count": 5,
   "metadata": {},
   "outputs": [
    {
     "data": {
      "text/html": [
       "<div>\n",
       "<style scoped>\n",
       "    .dataframe tbody tr th:only-of-type {\n",
       "        vertical-align: middle;\n",
       "    }\n",
       "\n",
       "    .dataframe tbody tr th {\n",
       "        vertical-align: top;\n",
       "    }\n",
       "\n",
       "    .dataframe thead th {\n",
       "        text-align: right;\n",
       "    }\n",
       "</style>\n",
       "<table border=\"1\" class=\"dataframe\">\n",
       "  <thead>\n",
       "    <tr style=\"text-align: right;\">\n",
       "      <th></th>\n",
       "      <th>id</th>\n",
       "      <th>sentiment</th>\n",
       "      <th>review</th>\n",
       "    </tr>\n",
       "  </thead>\n",
       "  <tbody>\n",
       "    <tr>\n",
       "      <th>0</th>\n",
       "      <td>\"5814_8\"</td>\n",
       "      <td>1</td>\n",
       "      <td>\"With all this stuff going down at the moment ...</td>\n",
       "    </tr>\n",
       "    <tr>\n",
       "      <th>1</th>\n",
       "      <td>\"2381_9\"</td>\n",
       "      <td>1</td>\n",
       "      <td>\"\\\"The Classic War of the Worlds\\\" by Timothy ...</td>\n",
       "    </tr>\n",
       "    <tr>\n",
       "      <th>2</th>\n",
       "      <td>\"7759_3\"</td>\n",
       "      <td>0</td>\n",
       "      <td>\"The film starts with a manager (Nicholas Bell...</td>\n",
       "    </tr>\n",
       "    <tr>\n",
       "      <th>3</th>\n",
       "      <td>\"3630_4\"</td>\n",
       "      <td>0</td>\n",
       "      <td>\"It must be assumed that those who praised thi...</td>\n",
       "    </tr>\n",
       "    <tr>\n",
       "      <th>4</th>\n",
       "      <td>\"9495_8\"</td>\n",
       "      <td>1</td>\n",
       "      <td>\"Superbly trashy and wondrously unpretentious ...</td>\n",
       "    </tr>\n",
       "  </tbody>\n",
       "</table>\n",
       "</div>"
      ],
      "text/plain": [
       "         id  sentiment                                             review\n",
       "0  \"5814_8\"          1  \"With all this stuff going down at the moment ...\n",
       "1  \"2381_9\"          1  \"\\\"The Classic War of the Worlds\\\" by Timothy ...\n",
       "2  \"7759_3\"          0  \"The film starts with a manager (Nicholas Bell...\n",
       "3  \"3630_4\"          0  \"It must be assumed that those who praised thi...\n",
       "4  \"9495_8\"          1  \"Superbly trashy and wondrously unpretentious ..."
      ]
     },
     "execution_count": 5,
     "metadata": {},
     "output_type": "execute_result"
    }
   ],
   "source": [
    "train.head()"
   ]
  },
  {
   "cell_type": "code",
   "execution_count": 6,
   "metadata": {},
   "outputs": [
    {
     "name": "stdout",
     "output_type": "stream",
     "text": [
      "The train shape is:  (25000, 3)\n",
      "The train shape is:  (25000, 2)\n"
     ]
    }
   ],
   "source": [
    "print('The train shape is: ', train.shape)\n",
    "print('The train shape is: ', test.shape)"
   ]
  },
  {
   "cell_type": "code",
   "execution_count": 7,
   "metadata": {},
   "outputs": [
    {
     "name": "stdout",
     "output_type": "stream",
     "text": [
      "The first review is:\n",
      "\"With all this stuff going down at the moment with MJ i've started listening to his music, watching the odd documentary here and there, watched The Wiz and watched Moonwalker again. Maybe i just want to get a certain insight into this guy who i thought was really cool in the eighties just to maybe make up my mind whether he is guilty or innocent. Moonwalker is part biography, part feature film which i remember going to see at the cinema when it was originally released. Some of it has subtle messages about MJ's feeling towards the press and also the obvious message of drugs are bad m'kay.<br /><br />Visually impressive but of course this is all about Michael Jackson so unless you remotely like MJ in anyway then you are going to hate this and find it boring. Some may call MJ an egotist for consenting to the making of this movie BUT MJ and most of his fans would say that he made it for the fans which if true is really nice of him.<br /><br />The actual feature film bit when it finally starts is only on for 20 minutes or so excluding the Smooth Criminal sequence and Joe Pesci is convincing as a psychopathic all powerful drug lord. Why he wants MJ dead so bad is beyond me. Because MJ overheard his plans? Nah, Joe Pesci's character ranted that he wanted people to know it is he who is supplying drugs etc so i dunno, maybe he just hates MJ's music.<br /><br />Lots of cool things in this like MJ turning into a car and a robot and the whole Speed Demon sequence. Also, the director must have had the patience of a saint when it came to filming the kiddy Bad sequence as usually directors hate working with one kid let alone a whole bunch of them performing a complex dance scene.<br /><br />Bottom line, this movie is for people who like MJ on one level or another (which i think is most people). If not, then stay away. It does try and give off a wholesome message and ironically MJ's bestest buddy in this movie is a girl! Michael Jackson is truly one of the most talented people ever to grace this planet but is he guilty? Well, with all the attention i've gave this subject....hmmm well i don't know because people can be different behind closed doors, i know this for a fact. He is either an extremely nice but stupid guy or one of the most sickest liars. I hope he is not the latter.\"\n"
     ]
    }
   ],
   "source": [
    "print('The first review is:')\n",
    "print(train[\"review\"][0])\n"
   ]
  },
  {
   "cell_type": "code",
   "execution_count": 8,
   "metadata": {},
   "outputs": [
    {
     "name": "stdout",
     "output_type": "stream",
     "text": [
      "\"With all this stuff going down at the moment with MJ i've started listening to his music, watching the odd documentary here and there, watched The Wiz and watched Moonwalker again. Maybe i just want to get a certain insight into this guy who i thought was really cool in the eighties just to maybe make up my mind whether he is guilty or innocent. Moonwalker is part biography, part feature film which i remember going to see at the cinema when it was originally released. Some of it has subtle messages about MJ's feeling towards the press and also the obvious message of drugs are bad m'kay.Visually impressive but of course this is all about Michael Jackson so unless you remotely like MJ in anyway then you are going to hate this and find it boring. Some may call MJ an egotist for consenting to the making of this movie BUT MJ and most of his fans would say that he made it for the fans which if true is really nice of him.The actual feature film bit when it finally starts is only on for 20 minutes or so excluding the Smooth Criminal sequence and Joe Pesci is convincing as a psychopathic all powerful drug lord. Why he wants MJ dead so bad is beyond me. Because MJ overheard his plans? Nah, Joe Pesci's character ranted that he wanted people to know it is he who is supplying drugs etc so i dunno, maybe he just hates MJ's music.Lots of cool things in this like MJ turning into a car and a robot and the whole Speed Demon sequence. Also, the director must have had the patience of a saint when it came to filming the kiddy Bad sequence as usually directors hate working with one kid let alone a whole bunch of them performing a complex dance scene.Bottom line, this movie is for people who like MJ on one level or another (which i think is most people). If not, then stay away. It does try and give off a wholesome message and ironically MJ's bestest buddy in this movie is a girl! Michael Jackson is truly one of the most talented people ever to grace this planet but is he guilty? Well, with all the attention i've gave this subject....hmmm well i don't know because people can be different behind closed doors, i know this for a fact. He is either an extremely nice but stupid guy or one of the most sickest liars. I hope he is not the latter.\"\n"
     ]
    }
   ],
   "source": [
    "# Import BeautifulSoup into your workspace\n",
    "from bs4 import BeautifulSoup             \n",
    "\n",
    "# Initialize the BeautifulSoup object on a single movie review     \n",
    "example1 = BeautifulSoup(train[\"review\"][0], \"html.parser\" )  \n",
    "print(example1.get_text())"
   ]
  },
  {
   "cell_type": "code",
   "execution_count": 10,
   "metadata": {},
   "outputs": [
    {
     "name": "stdout",
     "output_type": "stream",
     "text": [
      " With all this stuff going down at the moment with MJ i ve started listening to his music  watching the odd documentary here and there  watched The Wiz and watched Moonwalker again  Maybe i just want to get a certain insight into this guy who i thought was really cool in the eighties just to maybe make up my mind whether he is guilty or innocent  Moonwalker is part biography  part feature film which i remember going to see at the cinema when it was originally released  Some of it has subtle messages about MJ s feeling towards the press and also the obvious message of drugs are bad m kay Visually impressive but of course this is all about Michael Jackson so unless you remotely like MJ in anyway then you are going to hate this and find it boring  Some may call MJ an egotist for consenting to the making of this movie BUT MJ and most of his fans would say that he made it for the fans which if true is really nice of him The actual feature film bit when it finally starts is only on for    minutes or so excluding the Smooth Criminal sequence and Joe Pesci is convincing as a psychopathic all powerful drug lord  Why he wants MJ dead so bad is beyond me  Because MJ overheard his plans  Nah  Joe Pesci s character ranted that he wanted people to know it is he who is supplying drugs etc so i dunno  maybe he just hates MJ s music Lots of cool things in this like MJ turning into a car and a robot and the whole Speed Demon sequence  Also  the director must have had the patience of a saint when it came to filming the kiddy Bad sequence as usually directors hate working with one kid let alone a whole bunch of them performing a complex dance scene Bottom line  this movie is for people who like MJ on one level or another  which i think is most people   If not  then stay away  It does try and give off a wholesome message and ironically MJ s bestest buddy in this movie is a girl  Michael Jackson is truly one of the most talented people ever to grace this planet but is he guilty  Well  with all the attention i ve gave this subject    hmmm well i don t know because people can be different behind closed doors  i know this for a fact  He is either an extremely nice but stupid guy or one of the most sickest liars  I hope he is not the latter  \n"
     ]
    }
   ],
   "source": [
    "import re\n",
    "# Use regular expressions to do a find-and-replace\n",
    "letters_only = re.sub(\"[^a-zA-Z]\",           # The pattern to search for\n",
    "                      \" \",                   # The pattern to replace it with\n",
    "                      example1.get_text() )  # The text to search\n",
    "print (letters_only)"
   ]
  },
  {
   "cell_type": "code",
   "execution_count": 11,
   "metadata": {},
   "outputs": [],
   "source": [
    "lower_case = letters_only.lower()        # Convert to lower case\n",
    "words = lower_case.split()               # Split into words\n"
   ]
  },
  {
   "cell_type": "code",
   "execution_count": 12,
   "metadata": {},
   "outputs": [
    {
     "name": "stdout",
     "output_type": "stream",
     "text": [
      "[nltk_data] Downloading package stopwords to\n",
      "[nltk_data]     /Users/jasonkuruzovich/nltk_data...\n",
      "[nltk_data]   Package stopwords is already up-to-date!\n"
     ]
    },
    {
     "data": {
      "text/plain": [
       "True"
      ]
     },
     "execution_count": 12,
     "metadata": {},
     "output_type": "execute_result"
    }
   ],
   "source": [
    "# Enter Download then stopwords.\n",
    "nltk.download('stopwords')"
   ]
  },
  {
   "cell_type": "code",
   "execution_count": 13,
   "metadata": {},
   "outputs": [
    {
     "name": "stdout",
     "output_type": "stream",
     "text": [
      "['i', 'me', 'my', 'myself', 'we', 'our', 'ours', 'ourselves', 'you', \"you're\", \"you've\", \"you'll\", \"you'd\", 'your', 'yours', 'yourself', 'yourselves', 'he', 'him', 'his', 'himself', 'she', \"she's\", 'her', 'hers', 'herself', 'it', \"it's\", 'its', 'itself', 'they', 'them', 'their', 'theirs', 'themselves', 'what', 'which', 'who', 'whom', 'this', 'that', \"that'll\", 'these', 'those', 'am', 'is', 'are', 'was', 'were', 'be', 'been', 'being', 'have', 'has', 'had', 'having', 'do', 'does', 'did', 'doing', 'a', 'an', 'the', 'and', 'but', 'if', 'or', 'because', 'as', 'until', 'while', 'of', 'at', 'by', 'for', 'with', 'about', 'against', 'between', 'into', 'through', 'during', 'before', 'after', 'above', 'below', 'to', 'from', 'up', 'down', 'in', 'out', 'on', 'off', 'over', 'under', 'again', 'further', 'then', 'once', 'here', 'there', 'when', 'where', 'why', 'how', 'all', 'any', 'both', 'each', 'few', 'more', 'most', 'other', 'some', 'such', 'no', 'nor', 'not', 'only', 'own', 'same', 'so', 'than', 'too', 'very', 's', 't', 'can', 'will', 'just', 'don', \"don't\", 'should', \"should've\", 'now', 'd', 'll', 'm', 'o', 're', 've', 'y', 'ain', 'aren', \"aren't\", 'couldn', \"couldn't\", 'didn', \"didn't\", 'doesn', \"doesn't\", 'hadn', \"hadn't\", 'hasn', \"hasn't\", 'haven', \"haven't\", 'isn', \"isn't\", 'ma', 'mightn', \"mightn't\", 'mustn', \"mustn't\", 'needn', \"needn't\", 'shan', \"shan't\", 'shouldn', \"shouldn't\", 'wasn', \"wasn't\", 'weren', \"weren't\", 'won', \"won't\", 'wouldn', \"wouldn't\"]\n"
     ]
    }
   ],
   "source": [
    "print (stopwords.words(\"english\"))"
   ]
  },
  {
   "cell_type": "code",
   "execution_count": 14,
   "metadata": {},
   "outputs": [
    {
     "name": "stdout",
     "output_type": "stream",
     "text": [
      "['stuff', 'going', 'moment', 'mj', 'started', 'listening', 'music', 'watching', 'odd', 'documentary', 'watched', 'wiz', 'watched', 'moonwalker', 'maybe', 'want', 'get', 'certain', 'insight', 'guy', 'thought', 'really', 'cool', 'eighties', 'maybe', 'make', 'mind', 'whether', 'guilty', 'innocent', 'moonwalker', 'part', 'biography', 'part', 'feature', 'film', 'remember', 'going', 'see', 'cinema', 'originally', 'released', 'subtle', 'messages', 'mj', 'feeling', 'towards', 'press', 'also', 'obvious', 'message', 'drugs', 'bad', 'kay', 'visually', 'impressive', 'course', 'michael', 'jackson', 'unless', 'remotely', 'like', 'mj', 'anyway', 'going', 'hate', 'find', 'boring', 'may', 'call', 'mj', 'egotist', 'consenting', 'making', 'movie', 'mj', 'fans', 'would', 'say', 'made', 'fans', 'true', 'really', 'nice', 'actual', 'feature', 'film', 'bit', 'finally', 'starts', 'minutes', 'excluding', 'smooth', 'criminal', 'sequence', 'joe', 'pesci', 'convincing', 'psychopathic', 'powerful', 'drug', 'lord', 'wants', 'mj', 'dead', 'bad', 'beyond', 'mj', 'overheard', 'plans', 'nah', 'joe', 'pesci', 'character', 'ranted', 'wanted', 'people', 'know', 'supplying', 'drugs', 'etc', 'dunno', 'maybe', 'hates', 'mj', 'music', 'lots', 'cool', 'things', 'like', 'mj', 'turning', 'car', 'robot', 'whole', 'speed', 'demon', 'sequence', 'also', 'director', 'must', 'patience', 'saint', 'came', 'filming', 'kiddy', 'bad', 'sequence', 'usually', 'directors', 'hate', 'working', 'one', 'kid', 'let', 'alone', 'whole', 'bunch', 'performing', 'complex', 'dance', 'scene', 'bottom', 'line', 'movie', 'people', 'like', 'mj', 'one', 'level', 'another', 'think', 'people', 'stay', 'away', 'try', 'give', 'wholesome', 'message', 'ironically', 'mj', 'bestest', 'buddy', 'movie', 'girl', 'michael', 'jackson', 'truly', 'one', 'talented', 'people', 'ever', 'grace', 'planet', 'guilty', 'well', 'attention', 'gave', 'subject', 'hmmm', 'well', 'know', 'people', 'different', 'behind', 'closed', 'doors', 'know', 'fact', 'either', 'extremely', 'nice', 'stupid', 'guy', 'one', 'sickest', 'liars', 'hope', 'latter']\n"
     ]
    }
   ],
   "source": [
    "# Remove stop words from \"words\"\n",
    "words = [w for w in words if not w in stopwords.words(\"english\")]\n",
    "print (words)"
   ]
  },
  {
   "cell_type": "code",
   "execution_count": 15,
   "metadata": {},
   "outputs": [],
   "source": [
    "#Now we are going to do our first class\n",
    "class KaggleWord2VecUtility(object):\n",
    "    \"\"\"KaggleWord2VecUtility is a utility class for processing raw HTML text into segments for further learning\"\"\"\n",
    "\n",
    "    @staticmethod\n",
    "    def review_to_wordlist( review, remove_stopwords=False ):\n",
    "        # Function to convert a document to a sequence of words,\n",
    "        # optionally removing stop words.  Returns a list of words.\n",
    "        #\n",
    "        # 1. Remove HTML\n",
    "        review_text = BeautifulSoup(review,\"html.parser\"  ).get_text()\n",
    "        #\n",
    "        # 2. Remove non-letters\n",
    "        review_text = re.sub(\"[^a-zA-Z]\",\" \", review_text)\n",
    "        #\n",
    "        # 3. Convert words to lower case and split them\n",
    "        words = review_text.lower().split()\n",
    "        #\n",
    "        # 4. Optionally remove stop words (false by default)\n",
    "        if remove_stopwords:\n",
    "            stops = set(stopwords.words(\"english\"))\n",
    "            words = [w for w in words if not w in stops]\n",
    "        #\n",
    "        # 5. Return a list of words\n",
    "        return(words)\n",
    "\n",
    "    # Define a function to split a review into parsed sentences\n",
    "    @staticmethod\n",
    "    def review_to_sentences( review, tokenizer, remove_stopwords=False ):\n",
    "        # Function to split a review into parsed sentences. Returns a\n",
    "        # list of sentences, where each sentence is a list of words\n",
    "        #\n",
    "        # 1. Use the NLTK tokenizer to split the paragraph into sentences\n",
    "        raw_sentences = tokenizer.tokenize(review.strip())\n",
    "        #\n",
    "        # 2. Loop over each sentence\n",
    "        sentences = []\n",
    "        for raw_sentence in raw_sentences:\n",
    "            # If a sentence is empty, skip it\n",
    "            if len(raw_sentence) > 0:\n",
    "                # Otherwise, call review_to_wordlist to get a list of words\n",
    "                sentences.append( KaggleWord2VecUtility.review_to_wordlist( raw_sentence, remove_stopwords ))\n",
    "        #\n",
    "        # Return the list of sentences (each sentence is a list of words,\n",
    "        # so this returns a list of lists\n",
    "        return sentences\n",
    "\n"
   ]
  },
  {
   "cell_type": "code",
   "execution_count": 16,
   "metadata": {},
   "outputs": [],
   "source": [
    "clean_review_word = KaggleWord2VecUtility.review_to_wordlist \\\n",
    "        ( train[\"review\"][0], True )\n",
    "clean_review_sentence = KaggleWord2VecUtility.review_to_wordlist \\\n",
    "        ( train[\"review\"][0], True )\n"
   ]
  },
  {
   "cell_type": "code",
   "execution_count": 17,
   "metadata": {},
   "outputs": [],
   "source": [
    "# Get the number of reviews based on the dataframe column size\n",
    "num_reviews = train[\"review\"].size\n",
    "\n",
    "\n",
    "\n"
   ]
  },
  {
   "cell_type": "code",
   "execution_count": 18,
   "metadata": {},
   "outputs": [
    {
     "name": "stdout",
     "output_type": "stream",
     "text": [
      "Cleaning and parsing the training set movie reviews...\n",
      "\n",
      "Review 1000 of 25000\n",
      "\n",
      "Review 2000 of 25000\n",
      "\n",
      "Review 3000 of 25000\n",
      "\n",
      "Review 4000 of 25000\n",
      "\n",
      "Review 5000 of 25000\n",
      "\n",
      "Review 6000 of 25000\n",
      "\n",
      "Review 7000 of 25000\n",
      "\n",
      "Review 8000 of 25000\n",
      "\n",
      "Review 9000 of 25000\n",
      "\n",
      "Review 10000 of 25000\n",
      "\n",
      "Review 11000 of 25000\n",
      "\n",
      "Review 12000 of 25000\n",
      "\n",
      "Review 13000 of 25000\n",
      "\n",
      "Review 14000 of 25000\n",
      "\n",
      "Review 15000 of 25000\n",
      "\n",
      "Review 16000 of 25000\n",
      "\n",
      "Review 17000 of 25000\n",
      "\n",
      "Review 18000 of 25000\n",
      "\n",
      "Review 19000 of 25000\n",
      "\n",
      "Review 20000 of 25000\n",
      "\n",
      "Review 21000 of 25000\n",
      "\n",
      "Review 22000 of 25000\n",
      "\n",
      "Review 23000 of 25000\n",
      "\n",
      "Review 24000 of 25000\n",
      "\n",
      "Review 25000 of 25000\n",
      "\n"
     ]
    }
   ],
   "source": [
    "print (\"Cleaning and parsing the training set movie reviews...\\n\")\n",
    "clean_train_reviews = []\n",
    "for i in range( 0, len(train[\"review\"])):\n",
    "    if( (i+1)%1000 == 0 ):\n",
    "        print (\"Review %d of %d\\n\" % ( i+1, num_reviews )  )  \n",
    "    clean_train_reviews.append(\" \".join(KaggleWord2VecUtility.review_to_wordlist(train[\"review\"][i], True)))"
   ]
  },
  {
   "cell_type": "code",
   "execution_count": 18,
   "metadata": {},
   "outputs": [
    {
     "data": {
      "text/plain": [
       "['stuff going moment mj started listening music watching odd documentary watched wiz watched moonwalker maybe want get certain insight guy thought really cool eighties maybe make mind whether guilty innocent moonwalker part biography part feature film remember going see cinema originally released subtle messages mj feeling towards press also obvious message drugs bad kay visually impressive course michael jackson unless remotely like mj anyway going hate find boring may call mj egotist consenting making movie mj fans would say made fans true really nice actual feature film bit finally starts minutes excluding smooth criminal sequence joe pesci convincing psychopathic powerful drug lord wants mj dead bad beyond mj overheard plans nah joe pesci character ranted wanted people know supplying drugs etc dunno maybe hates mj music lots cool things like mj turning car robot whole speed demon sequence also director must patience saint came filming kiddy bad sequence usually directors hate working one kid let alone whole bunch performing complex dance scene bottom line movie people like mj one level another think people stay away try give wholesome message ironically mj bestest buddy movie girl michael jackson truly one talented people ever grace planet guilty well attention gave subject hmmm well know people different behind closed doors know fact either extremely nice stupid guy one sickest liars hope latter',\n",
       " 'classic war worlds timothy hines entertaining film obviously goes great effort lengths faithfully recreate h g wells classic book mr hines succeeds watched film appreciated fact standard predictable hollywood fare comes every year e g spielberg version tom cruise slightest resemblance book obviously everyone looks different things movie envision amateur critics look criticize everything others rate movie important bases like entertained people never agree critics enjoyed effort mr hines put faithful h g wells classic novel found entertaining made easy overlook critics perceive shortcomings',\n",
       " 'film starts manager nicholas bell giving welcome investors robert carradine primal park secret project mutating primal animal using fossilized dna like jurassik park scientists resurrect one nature fearsome predators sabretooth tiger smilodon scientific ambition turns deadly however high voltage fence opened creature escape begins savagely stalking prey human visitors tourists scientific meanwhile youngsters enter restricted area security center attacked pack large pre historical animals deadlier bigger addition security agent stacy haiduk mate brian wimmer fight hardly carnivorous smilodons sabretooths course real star stars astounding terrifyingly though convincing giant animals savagely stalking prey group run afoul fight one nature fearsome predators furthermore third sabretooth dangerous slow stalks victims movie delivers goods lots blood gore beheading hair raising chills full scares sabretooths appear mediocre special effects story provides exciting stirring entertainment results quite boring giant animals majority made computer generator seem totally lousy middling performances though players reacting appropriately becoming food actors give vigorously physical performances dodging beasts running bound leaps dangling walls packs ridiculous final deadly scene small kids realistic gory violent attack scenes films sabretooths smilodon following sabretooth james r hickox vanessa angel david keith john rhys davies much better bc roland emmerich steven strait cliff curtis camilla belle motion picture filled bloody moments badly directed george miller originality takes many elements previous films miller australian director usually working television tidal wave journey center earth many others occasionally cinema man snowy river zeus roxanne robinson crusoe rating average bottom barrel',\n",
       " 'must assumed praised film greatest filmed opera ever read somewhere either care opera care wagner care anything except desire appear cultured either representation wagner swan song movie strikes unmitigated disaster leaden reading score matched tricksy lugubrious realisation text questionable people ideas opera matter play especially one shakespeare allowed anywhere near theatre film studio syberberg fashionably without smallest justification wagner text decided parsifal bisexual integration title character latter stages transmutes kind beatnik babe though one continues sing high tenor actors film singers get double dose armin jordan conductor seen face heard voice amfortas also appears monstrously double exposure kind batonzilla conductor ate monsalvat playing good friday music way transcendant loveliness nature represented scattering shopworn flaccid crocuses stuck ill laid turf expedient baffles theatre sometimes piece imperfections thoughts think syberberg splice parsifal gurnemanz mountain pasture lush provided julie andrews sound music sound hard endure high voices trumpets particular possessing aural glare adds another sort fatigue impatience uninspired conducting paralytic unfolding ritual someone another review mentioned bayreuth recording knappertsbusch though tempi often slow jordan altogether lacks sense pulse feeling ebb flow music half century orchestral sound set modern pressings still superior film',\n",
       " 'superbly trashy wondrously unpretentious exploitation hooray pre credits opening sequences somewhat give false impression dealing serious harrowing drama need fear barely ten minutes later necks nonsensical chainsaw battles rough fist fights lurid dialogs gratuitous nudity bo ingrid two orphaned siblings unusually close even slightly perverted relationship imagine playfully ripping towel covers sister naked body stare unshaven genitals several whole minutes well bo sister judging dubbed laughter mind sick dude anyway kids fled russia parents nasty soldiers brutally slaughtered mommy daddy friendly smuggler took custody however even raised trained bo ingrid expert smugglers actual plot lifts years later facing ultimate quest mythical incredibly valuable white fire diamond coincidentally found mine things life ever made little sense plot narrative structure white fire sure lot fun watch time clue beating cause bet actors understood even less whatever violence magnificently grotesque every single plot twist pleasingly retarded script goes totally bonkers beyond repair suddenly reveal reason bo needs replacement ingrid fred williamson enters scene big cigar mouth sleazy black fingers local prostitutes bo principal opponent italian chick big breasts hideous accent preposterous catchy theme song plays least dozen times throughout film obligatory falling love montage loads attractions god brilliant experience original french title translates life survive uniquely appropriate makes much sense rest movie none']"
      ]
     },
     "execution_count": 18,
     "metadata": {},
     "output_type": "execute_result"
    }
   ],
   "source": [
    "clean_train_reviews[0:5]"
   ]
  },
  {
   "cell_type": "code",
   "execution_count": 19,
   "metadata": {},
   "outputs": [
    {
     "name": "stdout",
     "output_type": "stream",
     "text": [
      "Creating the bag of words...\n",
      "\n"
     ]
    }
   ],
   "source": [
    "print (\"Creating the bag of words...\\n\")\n",
    "from sklearn.feature_extraction.text import CountVectorizer\n",
    "# Initialize the \"CountVectorizer\" object, which is scikit-learn's\n",
    "# bag of words tool.  \n",
    "vectorizer = CountVectorizer(analyzer = \"word\",   \\\n",
    "                             tokenizer = None,    \\\n",
    "                             preprocessor = None, \\\n",
    "                             stop_words = None,   \\\n",
    "                             max_features = 5000) \n",
    "\n"
   ]
  },
  {
   "cell_type": "code",
   "execution_count": 20,
   "metadata": {},
   "outputs": [],
   "source": [
    "train_data_features = vectorizer.fit_transform(clean_train_reviews)"
   ]
  },
  {
   "cell_type": "code",
   "execution_count": 21,
   "metadata": {},
   "outputs": [],
   "source": [
    "train_data_features = train_data_features.toarray()"
   ]
  },
  {
   "cell_type": "code",
   "execution_count": 22,
   "metadata": {},
   "outputs": [
    {
     "name": "stdout",
     "output_type": "stream",
     "text": [
      "Training the random forest (this may take a while)...\n"
     ]
    }
   ],
   "source": [
    "print (\"Training the random forest (this may take a while)...\")\n",
    "\n",
    "# Initialize a Random Forest classifier with 100 trees\n",
    "forest = RandomForestClassifier(n_estimators = 100)\n",
    "  "
   ]
  },
  {
   "cell_type": "code",
   "execution_count": 23,
   "metadata": {},
   "outputs": [],
   "source": [
    "# Fit the forest to the training set, using the bag of words as\n",
    "# features and the sentiment labels as the response variable\n",
    "#\n",
    "# This may take a few minutes to run\n",
    "forest = forest.fit( train_data_features, train[\"sentiment\"] )"
   ]
  },
  {
   "cell_type": "code",
   "execution_count": 87,
   "metadata": {},
   "outputs": [
    {
     "name": "stdout",
     "output_type": "stream",
     "text": [
      "Cleaning and parsing the test set movie reviews...\n",
      "\n"
     ]
    }
   ],
   "source": [
    "# Create an empty list and append the clean reviews one by one\n",
    "clean_test_reviews = []\n",
    "\n",
    "print (\"Cleaning and parsing the test set movie reviews...\\n\")\n",
    "for i in range(0,len(test[\"review\"])):\n",
    "    clean_test_reviews.append(\" \".join(KaggleWord2VecUtility.review_to_wordlist(test[\"review\"][i], True)))\n"
   ]
  },
  {
   "cell_type": "code",
   "execution_count": 88,
   "metadata": {
    "collapsed": true
   },
   "outputs": [],
   "source": [
    "\n",
    "# Get a bag of words for the test set, and convert to a numpy array\n",
    "test_data_features = vectorizer.transform(clean_test_reviews)\n",
    "test_data_features = test_data_features.toarray()\n"
   ]
  },
  {
   "cell_type": "code",
   "execution_count": 89,
   "metadata": {},
   "outputs": [
    {
     "name": "stdout",
     "output_type": "stream",
     "text": [
      "Predicting test labels...\n",
      "\n",
      "Wrote results to Bag_of_Words_model.csv\n"
     ]
    }
   ],
   "source": [
    "# Use the random forest to make sentiment label predictions\n",
    "print (\"Predicting test labels...\\n\")\n",
    "result = forest.predict(test_data_features)\n",
    "\n",
    "# Copy the results to a pandas dataframe with an \"id\" column and\n",
    "# a \"sentiment\" column\n",
    "output = pd.DataFrame( data={\"id\":test[\"id\"], \"sentiment\":result} )\n",
    "\n",
    "# Use pandas to write the comma-separated output file\n",
    "output.to_csv('Bag_of_Words_model.csv', index=False, quoting=3)\n",
    "print (\"Wrote results to Bag_of_Words_model.csv\")"
   ]
  },
  {
   "cell_type": "markdown",
   "metadata": {},
   "source": [
    "### Word2Vec\n"
   ]
  },
  {
   "cell_type": "code",
   "execution_count": 90,
   "metadata": {
    "collapsed": true
   },
   "outputs": [],
   "source": [
    "#!pip install gensim"
   ]
  },
  {
   "cell_type": "code",
   "execution_count": 91,
   "metadata": {
    "collapsed": true
   },
   "outputs": [],
   "source": [
    "import pandas as pd\n",
    "import os\n",
    "from nltk.corpus import stopwords\n",
    "import nltk.data\n",
    "import logging\n",
    "import numpy as np  # Make sure that numpy is imported\n",
    "from gensim.models import Word2Vec\n",
    "from sklearn.ensemble import RandomForestClassifier"
   ]
  },
  {
   "cell_type": "markdown",
   "metadata": {},
   "source": [
    "\"In lexical analysis, tokenization is the process of breaking a stream of text up into words, phrases, symbols, or other meaningful elements called tokens. The list of tokens becomes input for further processing such as parsing or text mining.\" -[Wikipedia](https://en.wikipedia.org/wiki/Tokenization_(lexical_analysis)\n",
    "\n",
    "Punkt is a specific tokenizer.\n",
    "[http://www.nltk.org/_modules/nltk/tokenize/punkt.html](http://www.nltk.org/_modules/nltk/tokenize/punkt.html) "
   ]
  },
  {
   "cell_type": "code",
   "execution_count": 92,
   "metadata": {},
   "outputs": [
    {
     "name": "stdout",
     "output_type": "stream",
     "text": [
      "[nltk_data] Downloading package punkt to\n",
      "[nltk_data]     /Users/jasonkuruzovich/nltk_data...\n",
      "[nltk_data]   Package punkt is already up-to-date!\n"
     ]
    },
    {
     "data": {
      "text/plain": [
       "True"
      ]
     },
     "execution_count": 92,
     "metadata": {},
     "output_type": "execute_result"
    }
   ],
   "source": [
    "# download punkt\n",
    "nltk.download('punkt')"
   ]
  },
  {
   "cell_type": "code",
   "execution_count": 93,
   "metadata": {
    "collapsed": true
   },
   "outputs": [],
   "source": [
    "#What is a tokenizer \n",
    "# http://www.nltk.org/_modules/nltk/tokenize/punkt.html \n",
    "tokenizer = nltk.data.load('tokenizers/punkt/english.pickle')"
   ]
  },
  {
   "cell_type": "code",
   "execution_count": 94,
   "metadata": {},
   "outputs": [
    {
     "name": "stdout",
     "output_type": "stream",
     "text": [
      "Parsing sentences from training set\n"
     ]
    },
    {
     "name": "stderr",
     "output_type": "stream",
     "text": [
      "//anaconda/envs/ad/lib/python3.5/site-packages/bs4/__init__.py:219: UserWarning: \"b'.'\" looks like a filename, not markup. You should probably open this file and pass the filehandle into Beautiful Soup.\n",
      "  ' Beautiful Soup.' % markup)\n",
      "//anaconda/envs/ad/lib/python3.5/site-packages/bs4/__init__.py:282: UserWarning: \"http://www.happierabroad.com\"\" looks like a URL. Beautiful Soup is not an HTTP client. You should probably use an HTTP client like requests to get the document behind the URL, and feed that document to Beautiful Soup.\n",
      "  ' that document to Beautiful Soup.' % decoded_markup\n"
     ]
    }
   ],
   "source": [
    "# ****** Split the labeled and unlabeled training sets into clean sentences\n",
    "# Note this will take a while and produce some warnings. \n",
    "sentences = []  # Initialize an empty list of sentences\n",
    "\n",
    "print (\"Parsing sentences from training set\")\n",
    "for review in train[\"review\"]:\n",
    "    sentences += KaggleWord2VecUtility.review_to_sentences(review, tokenizer)\n"
   ]
  },
  {
   "cell_type": "code",
   "execution_count": 95,
   "metadata": {},
   "outputs": [
    {
     "name": "stdout",
     "output_type": "stream",
     "text": [
      "Parsing sentences from unlabeled set\n"
     ]
    },
    {
     "name": "stderr",
     "output_type": "stream",
     "text": [
      "//anaconda/envs/ad/lib/python3.5/site-packages/bs4/__init__.py:219: UserWarning: \"b'.'\" looks like a filename, not markup. You should probably open this file and pass the filehandle into Beautiful Soup.\n",
      "  ' Beautiful Soup.' % markup)\n",
      "//anaconda/envs/ad/lib/python3.5/site-packages/bs4/__init__.py:282: UserWarning: \"http://www.archive.org/details/LovefromaStranger\"\" looks like a URL. Beautiful Soup is not an HTTP client. You should probably use an HTTP client like requests to get the document behind the URL, and feed that document to Beautiful Soup.\n",
      "  ' that document to Beautiful Soup.' % decoded_markup\n",
      "//anaconda/envs/ad/lib/python3.5/site-packages/bs4/__init__.py:282: UserWarning: \"http://www.loosechangeguide.com/LooseChangeGuide.html\"\" looks like a URL. Beautiful Soup is not an HTTP client. You should probably use an HTTP client like requests to get the document behind the URL, and feed that document to Beautiful Soup.\n",
      "  ' that document to Beautiful Soup.' % decoded_markup\n",
      "//anaconda/envs/ad/lib/python3.5/site-packages/bs4/__init__.py:282: UserWarning: \"http://www.msnbc.msn.com/id/4972055/site/newsweek/\"\" looks like a URL. Beautiful Soup is not an HTTP client. You should probably use an HTTP client like requests to get the document behind the URL, and feed that document to Beautiful Soup.\n",
      "  ' that document to Beautiful Soup.' % decoded_markup\n",
      "//anaconda/envs/ad/lib/python3.5/site-packages/bs4/__init__.py:219: UserWarning: \"b'..'\" looks like a filename, not markup. You should probably open this file and pass the filehandle into Beautiful Soup.\n",
      "  ' Beautiful Soup.' % markup)\n",
      "//anaconda/envs/ad/lib/python3.5/site-packages/bs4/__init__.py:282: UserWarning: \"http://www.youtube.com/watch?v=a0KSqelmgN8\"\" looks like a URL. Beautiful Soup is not an HTTP client. You should probably use an HTTP client like requests to get the document behind the URL, and feed that document to Beautiful Soup.\n",
      "  ' that document to Beautiful Soup.' % decoded_markup\n",
      "//anaconda/envs/ad/lib/python3.5/site-packages/bs4/__init__.py:282: UserWarning: \"http://jake-weird.blogspot.com/2007/08/beneath.html\"\" looks like a URL. Beautiful Soup is not an HTTP client. You should probably use an HTTP client like requests to get the document behind the URL, and feed that document to Beautiful Soup.\n",
      "  ' that document to Beautiful Soup.' % decoded_markup\n"
     ]
    }
   ],
   "source": [
    "    print (\"Parsing sentences from unlabeled set\")\n",
    "    for review in unlabeled_train[\"review\"]:\n",
    "        sentences += KaggleWord2VecUtility.review_to_sentences(review, tokenizer)"
   ]
  },
  {
   "cell_type": "code",
   "execution_count": 108,
   "metadata": {
    "collapsed": true
   },
   "outputs": [],
   "source": [
    "# ****** Define functions to create average word vectors\n",
    "#\n",
    "\n",
    "def makeFeatureVec(words, model, num_features):\n",
    "    # Function to average all of the word vectors in a given\n",
    "    # paragraph\n",
    "    #\n",
    "    # Pre-initialize an empty numpy array (for speed)\n",
    "    featureVec = np.zeros((num_features,),dtype=\"float32\")\n",
    "    #\n",
    "    nwords = 0.\n",
    "    #\n",
    "    # Index2word is a list that contains the names of the words in\n",
    "    # the model's vocabulary. Convert it to a set, for speed\n",
    "    index2word_set = set(model.wv.index2word)\n",
    "    #\n",
    "    # Loop over each word in the review and, if it is in the model's\n",
    "    # vocaublary, add its feature vector to the total\n",
    "    for word in words:\n",
    "        if word in index2word_set:\n",
    "            nwords = nwords + 1.\n",
    "            featureVec = np.add(featureVec,model[word])\n",
    "    #\n",
    "    # Divide the result by the number of words to get the average\n",
    "    featureVec = np.divide(featureVec,nwords)\n",
    "    return featureVec\n",
    "\n",
    "\n",
    "def getAvgFeatureVecs(reviews, model, num_features):\n",
    "    # Given a set of reviews (each one a list of words), calculate\n",
    "    # the average feature vector for each one and return a 2D numpy array\n",
    "    #\n",
    "    # Initialize a counter\n",
    "    counter = 0.\n",
    "    #\n",
    "    # Preallocate a 2D numpy array, for speed\n",
    "    reviewFeatureVecs = np.zeros((len(reviews),num_features),dtype=\"float32\")\n",
    "    #\n",
    "    # Loop through the reviews\n",
    "    for review in reviews:\n",
    "    # Print a status message every 1000th review\n",
    "       if counter%1000. == 0.:\n",
    "            print (\"Review %d of %d\" % (counter, len(reviews)))\n",
    "               # Call the function (defined above) that makes average feature vectors\n",
    "            reviewFeatureVecs[counter] = makeFeatureVec(review, model, num_features)\n",
    "            # Increment the counter\n",
    "            counter = counter + 1.\n",
    "    return reviewFeatureVecs\n",
    "\n",
    "\n",
    "def getCleanReviews(reviews):\n",
    "    clean_reviews = []\n",
    "    for review in reviews[\"review\"]:\n",
    "        clean_reviews.append( KaggleWord2VecUtility.review_to_wordlist( review, remove_stopwords=True ))\n",
    "    return clean_reviews"
   ]
  },
  {
   "cell_type": "code",
   "execution_count": 97,
   "metadata": {
    "collapsed": true
   },
   "outputs": [],
   "source": [
    "logging.basicConfig(format='%(asctime)s : %(levelname)s : %(message)s',level=logging.INFO)\n",
    "\n",
    "# Set values for various parameters\n",
    "num_features = 300    # Word vector dimensionality\n",
    "min_word_count = 40   # Minimum word count\n",
    "num_workers = 4       # Number of threads to run in parallel\n",
    "context = 10          # Context window size\n",
    "downsampling = 1e-3   # Downsample setting for frequent words"
   ]
  },
  {
   "cell_type": "code",
   "execution_count": 98,
   "metadata": {},
   "outputs": [
    {
     "name": "stderr",
     "output_type": "stream",
     "text": [
      "2017-11-20 17:15:52,538 : INFO : collecting all words and their counts\n",
      "2017-11-20 17:15:52,542 : INFO : PROGRESS: at sentence #0, processed 0 words, keeping 0 word types\n",
      "2017-11-20 17:15:52,656 : INFO : PROGRESS: at sentence #10000, processed 225803 words, keeping 17776 word types\n"
     ]
    },
    {
     "name": "stdout",
     "output_type": "stream",
     "text": [
      "Training Word2Vec model...\n"
     ]
    },
    {
     "name": "stderr",
     "output_type": "stream",
     "text": [
      "2017-11-20 17:15:52,799 : INFO : PROGRESS: at sentence #20000, processed 451892 words, keeping 24948 word types\n",
      "2017-11-20 17:15:52,914 : INFO : PROGRESS: at sentence #30000, processed 671314 words, keeping 30034 word types\n",
      "2017-11-20 17:15:53,026 : INFO : PROGRESS: at sentence #40000, processed 897814 words, keeping 34348 word types\n",
      "2017-11-20 17:15:53,091 : INFO : PROGRESS: at sentence #50000, processed 1116962 words, keeping 37761 word types\n",
      "2017-11-20 17:15:53,148 : INFO : PROGRESS: at sentence #60000, processed 1338403 words, keeping 40723 word types\n",
      "2017-11-20 17:15:53,215 : INFO : PROGRESS: at sentence #70000, processed 1561579 words, keeping 43333 word types\n",
      "2017-11-20 17:15:53,305 : INFO : PROGRESS: at sentence #80000, processed 1780886 words, keeping 45714 word types\n",
      "2017-11-20 17:15:53,423 : INFO : PROGRESS: at sentence #90000, processed 2004995 words, keeping 48135 word types\n",
      "2017-11-20 17:15:53,515 : INFO : PROGRESS: at sentence #100000, processed 2226966 words, keeping 50207 word types\n",
      "2017-11-20 17:15:53,612 : INFO : PROGRESS: at sentence #110000, processed 2446580 words, keeping 52081 word types\n",
      "2017-11-20 17:15:53,730 : INFO : PROGRESS: at sentence #120000, processed 2668775 words, keeping 54119 word types\n",
      "2017-11-20 17:15:53,828 : INFO : PROGRESS: at sentence #130000, processed 2894303 words, keeping 55847 word types\n",
      "2017-11-20 17:15:53,922 : INFO : PROGRESS: at sentence #140000, processed 3107005 words, keeping 57346 word types\n",
      "2017-11-20 17:15:54,022 : INFO : PROGRESS: at sentence #150000, processed 3332627 words, keeping 59055 word types\n",
      "2017-11-20 17:15:54,091 : INFO : PROGRESS: at sentence #160000, processed 3555315 words, keeping 60617 word types\n",
      "2017-11-20 17:15:54,165 : INFO : PROGRESS: at sentence #170000, processed 3778655 words, keeping 62077 word types\n",
      "2017-11-20 17:15:54,216 : INFO : PROGRESS: at sentence #180000, processed 3999236 words, keeping 63496 word types\n",
      "2017-11-20 17:15:54,275 : INFO : PROGRESS: at sentence #190000, processed 4224449 words, keeping 64794 word types\n",
      "2017-11-20 17:15:54,335 : INFO : PROGRESS: at sentence #200000, processed 4448603 words, keeping 66087 word types\n",
      "2017-11-20 17:15:54,387 : INFO : PROGRESS: at sentence #210000, processed 4669967 words, keeping 67390 word types\n",
      "2017-11-20 17:15:54,450 : INFO : PROGRESS: at sentence #220000, processed 4894968 words, keeping 68697 word types\n",
      "2017-11-20 17:15:54,503 : INFO : PROGRESS: at sentence #230000, processed 5117545 words, keeping 69958 word types\n",
      "2017-11-20 17:15:54,571 : INFO : PROGRESS: at sentence #240000, processed 5345050 words, keeping 71167 word types\n",
      "2017-11-20 17:15:54,625 : INFO : PROGRESS: at sentence #250000, processed 5559165 words, keeping 72351 word types\n",
      "2017-11-20 17:15:54,692 : INFO : PROGRESS: at sentence #260000, processed 5779146 words, keeping 73478 word types\n",
      "2017-11-20 17:15:54,781 : INFO : PROGRESS: at sentence #270000, processed 6000435 words, keeping 74767 word types\n",
      "2017-11-20 17:15:54,840 : INFO : PROGRESS: at sentence #280000, processed 6226314 words, keeping 76369 word types\n",
      "2017-11-20 17:15:54,909 : INFO : PROGRESS: at sentence #290000, processed 6449474 words, keeping 77839 word types\n",
      "2017-11-20 17:15:54,972 : INFO : PROGRESS: at sentence #300000, processed 6674077 words, keeping 79171 word types\n",
      "2017-11-20 17:15:55,041 : INFO : PROGRESS: at sentence #310000, processed 6899391 words, keeping 80480 word types\n",
      "2017-11-20 17:15:55,213 : INFO : PROGRESS: at sentence #320000, processed 7124278 words, keeping 81808 word types\n",
      "2017-11-20 17:15:55,347 : INFO : PROGRESS: at sentence #330000, processed 7346021 words, keeping 83030 word types\n",
      "2017-11-20 17:15:55,445 : INFO : PROGRESS: at sentence #340000, processed 7575533 words, keeping 84280 word types\n",
      "2017-11-20 17:15:55,505 : INFO : PROGRESS: at sentence #350000, processed 7798803 words, keeping 85425 word types\n",
      "2017-11-20 17:15:55,565 : INFO : PROGRESS: at sentence #360000, processed 8019466 words, keeping 86596 word types\n",
      "2017-11-20 17:15:55,645 : INFO : PROGRESS: at sentence #370000, processed 8246654 words, keeping 87708 word types\n",
      "2017-11-20 17:15:55,705 : INFO : PROGRESS: at sentence #380000, processed 8471801 words, keeping 88878 word types\n",
      "2017-11-20 17:15:55,775 : INFO : PROGRESS: at sentence #390000, processed 8701551 words, keeping 89907 word types\n",
      "2017-11-20 17:15:55,840 : INFO : PROGRESS: at sentence #400000, processed 8924500 words, keeping 90916 word types\n",
      "2017-11-20 17:15:55,898 : INFO : PROGRESS: at sentence #410000, processed 9145850 words, keeping 91880 word types\n",
      "2017-11-20 17:15:55,955 : INFO : PROGRESS: at sentence #420000, processed 9366930 words, keeping 92912 word types\n",
      "2017-11-20 17:15:56,009 : INFO : PROGRESS: at sentence #430000, processed 9594467 words, keeping 93932 word types\n",
      "2017-11-20 17:15:56,064 : INFO : PROGRESS: at sentence #440000, processed 9821218 words, keeping 94906 word types\n",
      "2017-11-20 17:15:56,121 : INFO : PROGRESS: at sentence #450000, processed 10044980 words, keeping 96036 word types\n",
      "2017-11-20 17:15:56,180 : INFO : PROGRESS: at sentence #460000, processed 10277740 words, keeping 97088 word types\n",
      "2017-11-20 17:15:56,234 : INFO : PROGRESS: at sentence #470000, processed 10505665 words, keeping 97933 word types\n",
      "2017-11-20 17:15:56,300 : INFO : PROGRESS: at sentence #480000, processed 10726049 words, keeping 98862 word types\n",
      "2017-11-20 17:15:56,378 : INFO : PROGRESS: at sentence #490000, processed 10952793 words, keeping 99871 word types\n",
      "2017-11-20 17:15:56,450 : INFO : PROGRESS: at sentence #500000, processed 11174449 words, keeping 100765 word types\n",
      "2017-11-20 17:15:56,519 : INFO : PROGRESS: at sentence #510000, processed 11399724 words, keeping 101699 word types\n",
      "2017-11-20 17:15:56,572 : INFO : PROGRESS: at sentence #520000, processed 11623075 words, keeping 102598 word types\n",
      "2017-11-20 17:15:56,698 : INFO : PROGRESS: at sentence #530000, processed 11847473 words, keeping 103400 word types\n",
      "2017-11-20 17:15:56,812 : INFO : PROGRESS: at sentence #540000, processed 12072088 words, keeping 104265 word types\n",
      "2017-11-20 17:15:56,974 : INFO : PROGRESS: at sentence #550000, processed 12297639 words, keeping 105133 word types\n",
      "2017-11-20 17:15:57,091 : INFO : PROGRESS: at sentence #560000, processed 12518929 words, keeping 105997 word types\n",
      "2017-11-20 17:15:57,202 : INFO : PROGRESS: at sentence #570000, processed 12748076 words, keeping 106787 word types\n",
      "2017-11-20 17:15:57,309 : INFO : PROGRESS: at sentence #580000, processed 12969572 words, keeping 107665 word types\n",
      "2017-11-20 17:15:57,410 : INFO : PROGRESS: at sentence #590000, processed 13195097 words, keeping 108501 word types\n",
      "2017-11-20 17:15:57,510 : INFO : PROGRESS: at sentence #600000, processed 13417295 words, keeping 109218 word types\n",
      "2017-11-20 17:15:57,614 : INFO : PROGRESS: at sentence #610000, processed 13638318 words, keeping 110092 word types\n",
      "2017-11-20 17:15:57,687 : INFO : PROGRESS: at sentence #620000, processed 13864643 words, keeping 110837 word types\n",
      "2017-11-20 17:15:57,758 : INFO : PROGRESS: at sentence #630000, processed 14088929 words, keeping 111610 word types\n",
      "2017-11-20 17:15:57,833 : INFO : PROGRESS: at sentence #640000, processed 14309712 words, keeping 112416 word types\n",
      "2017-11-20 17:15:57,896 : INFO : PROGRESS: at sentence #650000, processed 14535468 words, keeping 113196 word types\n",
      "2017-11-20 17:15:57,955 : INFO : PROGRESS: at sentence #660000, processed 14758258 words, keeping 113945 word types\n",
      "2017-11-20 17:15:58,019 : INFO : PROGRESS: at sentence #670000, processed 14981651 words, keeping 114643 word types\n",
      "2017-11-20 17:15:58,079 : INFO : PROGRESS: at sentence #680000, processed 15206483 words, keeping 115354 word types\n",
      "2017-11-20 17:15:58,141 : INFO : PROGRESS: at sentence #690000, processed 15428676 words, keeping 116131 word types\n",
      "2017-11-20 17:15:58,211 : INFO : PROGRESS: at sentence #700000, processed 15657382 words, keeping 116943 word types\n",
      "2017-11-20 17:15:58,276 : INFO : PROGRESS: at sentence #710000, processed 15880371 words, keeping 117596 word types\n",
      "2017-11-20 17:15:58,353 : INFO : PROGRESS: at sentence #720000, processed 16105658 words, keeping 118221 word types\n",
      "2017-11-20 17:15:58,431 : INFO : PROGRESS: at sentence #730000, processed 16332039 words, keeping 118954 word types\n",
      "2017-11-20 17:15:58,517 : INFO : PROGRESS: at sentence #740000, processed 16553072 words, keeping 119668 word types\n",
      "2017-11-20 17:15:58,580 : INFO : PROGRESS: at sentence #750000, processed 16771399 words, keeping 120295 word types\n",
      "2017-11-20 17:15:58,658 : INFO : PROGRESS: at sentence #760000, processed 16990803 words, keeping 120930 word types\n",
      "2017-11-20 17:15:58,723 : INFO : PROGRESS: at sentence #770000, processed 17217940 words, keeping 121703 word types\n",
      "2017-11-20 17:15:58,784 : INFO : PROGRESS: at sentence #780000, processed 17448086 words, keeping 122402 word types\n",
      "2017-11-20 17:15:58,849 : INFO : PROGRESS: at sentence #790000, processed 17675162 words, keeping 123066 word types\n",
      "2017-11-20 17:15:58,886 : INFO : collected 123504 word types from a corpus of 17798263 raw words and 795538 sentences\n",
      "2017-11-20 17:15:58,887 : INFO : Loading a fresh vocabulary\n",
      "2017-11-20 17:15:59,016 : INFO : min_count=40 retains 16490 unique words (13% of original 123504, drops 107014)\n",
      "2017-11-20 17:15:59,017 : INFO : min_count=40 leaves 17239118 word corpus (96% of original 17798263, drops 559145)\n",
      "2017-11-20 17:15:59,082 : INFO : deleting the raw counts dictionary of 123504 items\n",
      "2017-11-20 17:15:59,094 : INFO : sample=0.001 downsamples 48 most-common words\n",
      "2017-11-20 17:15:59,097 : INFO : downsampling leaves estimated 12749794 word corpus (74.0% of prior 17239118)\n",
      "2017-11-20 17:15:59,099 : INFO : estimated required memory for 16490 words and 300 dimensions: 47821000 bytes\n",
      "2017-11-20 17:15:59,274 : INFO : resetting layer weights\n",
      "2017-11-20 17:15:59,686 : INFO : training model with 4 workers on 16490 vocabulary and 300 features, using sg=0 hs=0 sample=0.001 negative=5 window=10\n",
      "2017-11-20 17:16:00,712 : INFO : PROGRESS: at 0.57% examples, 364063 words/s, in_qsize 6, out_qsize 1\n",
      "2017-11-20 17:16:01,721 : INFO : PROGRESS: at 1.01% examples, 320017 words/s, in_qsize 6, out_qsize 1\n",
      "2017-11-20 17:16:02,749 : INFO : PROGRESS: at 1.64% examples, 343484 words/s, in_qsize 8, out_qsize 0\n",
      "2017-11-20 17:16:03,788 : INFO : PROGRESS: at 2.13% examples, 331397 words/s, in_qsize 7, out_qsize 0\n",
      "2017-11-20 17:16:04,799 : INFO : PROGRESS: at 2.88% examples, 358417 words/s, in_qsize 7, out_qsize 0\n",
      "2017-11-20 17:16:05,802 : INFO : PROGRESS: at 3.93% examples, 408489 words/s, in_qsize 7, out_qsize 0\n",
      "2017-11-20 17:16:06,815 : INFO : PROGRESS: at 4.93% examples, 439932 words/s, in_qsize 8, out_qsize 1\n",
      "2017-11-20 17:16:07,823 : INFO : PROGRESS: at 5.92% examples, 462749 words/s, in_qsize 7, out_qsize 0\n",
      "2017-11-20 17:16:08,837 : INFO : PROGRESS: at 6.64% examples, 460622 words/s, in_qsize 7, out_qsize 0\n",
      "2017-11-20 17:16:09,906 : INFO : PROGRESS: at 7.42% examples, 461391 words/s, in_qsize 8, out_qsize 0\n",
      "2017-11-20 17:16:10,920 : INFO : PROGRESS: at 8.17% examples, 462353 words/s, in_qsize 7, out_qsize 0\n",
      "2017-11-20 17:16:11,930 : INFO : PROGRESS: at 9.10% examples, 472737 words/s, in_qsize 7, out_qsize 0\n",
      "2017-11-20 17:16:12,932 : INFO : PROGRESS: at 10.06% examples, 483442 words/s, in_qsize 7, out_qsize 0\n",
      "2017-11-20 17:16:13,939 : INFO : PROGRESS: at 11.04% examples, 493443 words/s, in_qsize 6, out_qsize 1\n",
      "2017-11-20 17:16:14,947 : INFO : PROGRESS: at 11.98% examples, 500665 words/s, in_qsize 7, out_qsize 0\n",
      "2017-11-20 17:16:15,955 : INFO : PROGRESS: at 12.72% examples, 498646 words/s, in_qsize 8, out_qsize 0\n",
      "2017-11-20 17:16:16,964 : INFO : PROGRESS: at 13.48% examples, 497690 words/s, in_qsize 6, out_qsize 1\n",
      "2017-11-20 17:16:17,968 : INFO : PROGRESS: at 14.25% examples, 497417 words/s, in_qsize 7, out_qsize 0\n",
      "2017-11-20 17:16:18,985 : INFO : PROGRESS: at 15.18% examples, 501591 words/s, in_qsize 7, out_qsize 0\n",
      "2017-11-20 17:16:20,024 : INFO : PROGRESS: at 16.08% examples, 504447 words/s, in_qsize 8, out_qsize 1\n",
      "2017-11-20 17:16:21,051 : INFO : PROGRESS: at 17.10% examples, 510714 words/s, in_qsize 7, out_qsize 0\n",
      "2017-11-20 17:16:22,054 : INFO : PROGRESS: at 17.64% examples, 503141 words/s, in_qsize 7, out_qsize 0\n",
      "2017-11-20 17:16:23,064 : INFO : PROGRESS: at 17.84% examples, 486886 words/s, in_qsize 7, out_qsize 0\n",
      "2017-11-20 17:16:24,097 : INFO : PROGRESS: at 18.15% examples, 474467 words/s, in_qsize 6, out_qsize 1\n",
      "2017-11-20 17:16:25,160 : INFO : PROGRESS: at 18.73% examples, 468983 words/s, in_qsize 7, out_qsize 0\n",
      "2017-11-20 17:16:26,343 : INFO : PROGRESS: at 19.26% examples, 460798 words/s, in_qsize 7, out_qsize 0\n",
      "2017-11-20 17:16:27,385 : INFO : PROGRESS: at 19.62% examples, 451986 words/s, in_qsize 7, out_qsize 0\n",
      "2017-11-20 17:16:28,463 : INFO : PROGRESS: at 19.83% examples, 439767 words/s, in_qsize 7, out_qsize 0\n",
      "2017-11-20 17:16:29,499 : INFO : PROGRESS: at 20.07% examples, 429525 words/s, in_qsize 6, out_qsize 1\n",
      "2017-11-20 17:16:30,509 : INFO : PROGRESS: at 20.39% examples, 422163 words/s, in_qsize 7, out_qsize 0\n",
      "2017-11-20 17:16:31,531 : INFO : PROGRESS: at 20.83% examples, 417360 words/s, in_qsize 7, out_qsize 0\n",
      "2017-11-20 17:16:32,542 : INFO : PROGRESS: at 21.42% examples, 415820 words/s, in_qsize 7, out_qsize 0\n",
      "2017-11-20 17:16:33,546 : INFO : PROGRESS: at 22.23% examples, 418702 words/s, in_qsize 6, out_qsize 1\n",
      "2017-11-20 17:16:34,551 : INFO : PROGRESS: at 22.90% examples, 418762 words/s, in_qsize 7, out_qsize 0\n",
      "2017-11-20 17:16:35,736 : INFO : PROGRESS: at 23.11% examples, 408752 words/s, in_qsize 8, out_qsize 1\n",
      "2017-11-20 17:16:36,796 : INFO : PROGRESS: at 23.28% examples, 399970 words/s, in_qsize 7, out_qsize 0\n",
      "2017-11-20 17:16:37,875 : INFO : PROGRESS: at 23.47% examples, 391660 words/s, in_qsize 7, out_qsize 0\n",
      "2017-11-20 17:16:38,896 : INFO : PROGRESS: at 23.69% examples, 385093 words/s, in_qsize 8, out_qsize 0\n",
      "2017-11-20 17:16:39,902 : INFO : PROGRESS: at 24.02% examples, 380608 words/s, in_qsize 6, out_qsize 1\n",
      "2017-11-20 17:16:40,946 : INFO : PROGRESS: at 24.48% examples, 377919 words/s, in_qsize 7, out_qsize 0\n",
      "2017-11-20 17:16:41,989 : INFO : PROGRESS: at 25.07% examples, 377555 words/s, in_qsize 6, out_qsize 1\n",
      "2017-11-20 17:16:42,995 : INFO : PROGRESS: at 25.33% examples, 372584 words/s, in_qsize 7, out_qsize 0\n",
      "2017-11-20 17:16:44,007 : INFO : PROGRESS: at 26.14% examples, 375693 words/s, in_qsize 8, out_qsize 0\n",
      "2017-11-20 17:16:45,012 : INFO : PROGRESS: at 27.01% examples, 379498 words/s, in_qsize 7, out_qsize 0\n",
      "2017-11-20 17:16:46,035 : INFO : PROGRESS: at 27.83% examples, 382408 words/s, in_qsize 7, out_qsize 0\n",
      "2017-11-20 17:16:47,037 : INFO : PROGRESS: at 28.40% examples, 382008 words/s, in_qsize 8, out_qsize 0\n",
      "2017-11-20 17:16:48,061 : INFO : PROGRESS: at 29.07% examples, 382805 words/s, in_qsize 7, out_qsize 0\n",
      "2017-11-20 17:16:49,071 : INFO : PROGRESS: at 29.60% examples, 381925 words/s, in_qsize 7, out_qsize 0\n",
      "2017-11-20 17:16:50,075 : INFO : PROGRESS: at 30.33% examples, 383555 words/s, in_qsize 6, out_qsize 1\n",
      "2017-11-20 17:16:51,082 : INFO : PROGRESS: at 31.23% examples, 387293 words/s, in_qsize 7, out_qsize 0\n",
      "2017-11-20 17:16:52,082 : INFO : PROGRESS: at 32.00% examples, 389447 words/s, in_qsize 7, out_qsize 0\n",
      "2017-11-20 17:16:53,098 : INFO : PROGRESS: at 32.68% examples, 390064 words/s, in_qsize 7, out_qsize 0\n",
      "2017-11-20 17:16:54,114 : INFO : PROGRESS: at 33.28% examples, 389885 words/s, in_qsize 8, out_qsize 0\n",
      "2017-11-20 17:16:55,117 : INFO : PROGRESS: at 34.01% examples, 391213 words/s, in_qsize 7, out_qsize 0\n",
      "2017-11-20 17:16:56,132 : INFO : PROGRESS: at 34.71% examples, 392168 words/s, in_qsize 7, out_qsize 0\n",
      "2017-11-20 17:16:57,137 : INFO : PROGRESS: at 35.38% examples, 392648 words/s, in_qsize 7, out_qsize 0\n",
      "2017-11-20 17:16:58,161 : INFO : PROGRESS: at 36.16% examples, 394336 words/s, in_qsize 8, out_qsize 2\n",
      "2017-11-20 17:16:59,168 : INFO : PROGRESS: at 37.02% examples, 396915 words/s, in_qsize 6, out_qsize 1\n",
      "2017-11-20 17:17:00,169 : INFO : PROGRESS: at 37.86% examples, 399219 words/s, in_qsize 8, out_qsize 0\n",
      "2017-11-20 17:17:01,178 : INFO : PROGRESS: at 38.50% examples, 399309 words/s, in_qsize 7, out_qsize 0\n",
      "2017-11-20 17:17:02,179 : INFO : PROGRESS: at 39.19% examples, 399885 words/s, in_qsize 7, out_qsize 0\n",
      "2017-11-20 17:17:03,195 : INFO : PROGRESS: at 40.00% examples, 401697 words/s, in_qsize 7, out_qsize 0\n",
      "2017-11-20 17:17:04,208 : INFO : PROGRESS: at 40.83% examples, 403595 words/s, in_qsize 6, out_qsize 1\n",
      "2017-11-20 17:17:05,231 : INFO : PROGRESS: at 41.47% examples, 403505 words/s, in_qsize 7, out_qsize 0\n",
      "2017-11-20 17:17:06,252 : INFO : PROGRESS: at 42.39% examples, 406026 words/s, in_qsize 7, out_qsize 0\n",
      "2017-11-20 17:17:07,263 : INFO : PROGRESS: at 43.19% examples, 407473 words/s, in_qsize 6, out_qsize 1\n",
      "2017-11-20 17:17:08,266 : INFO : PROGRESS: at 43.94% examples, 408387 words/s, in_qsize 7, out_qsize 0\n",
      "2017-11-20 17:17:09,310 : INFO : PROGRESS: at 44.60% examples, 408226 words/s, in_qsize 7, out_qsize 0\n",
      "2017-11-20 17:17:10,328 : INFO : PROGRESS: at 45.41% examples, 409628 words/s, in_qsize 7, out_qsize 0\n",
      "2017-11-20 17:17:11,355 : INFO : PROGRESS: at 46.30% examples, 411631 words/s, in_qsize 7, out_qsize 1\n",
      "2017-11-20 17:17:12,356 : INFO : PROGRESS: at 47.19% examples, 413726 words/s, in_qsize 7, out_qsize 0\n",
      "2017-11-20 17:17:13,362 : INFO : PROGRESS: at 47.78% examples, 413230 words/s, in_qsize 7, out_qsize 0\n",
      "2017-11-20 17:17:14,381 : INFO : PROGRESS: at 48.58% examples, 414489 words/s, in_qsize 7, out_qsize 0\n",
      "2017-11-20 17:17:15,419 : INFO : PROGRESS: at 49.21% examples, 414092 words/s, in_qsize 8, out_qsize 0\n",
      "2017-11-20 17:17:16,457 : INFO : PROGRESS: at 49.91% examples, 414359 words/s, in_qsize 7, out_qsize 0\n",
      "2017-11-20 17:17:17,485 : INFO : PROGRESS: at 50.41% examples, 412929 words/s, in_qsize 8, out_qsize 0\n",
      "2017-11-20 17:17:18,492 : INFO : PROGRESS: at 51.17% examples, 413820 words/s, in_qsize 7, out_qsize 0\n",
      "2017-11-20 17:17:19,517 : INFO : PROGRESS: at 51.78% examples, 413519 words/s, in_qsize 8, out_qsize 0\n",
      "2017-11-20 17:17:20,519 : INFO : PROGRESS: at 52.05% examples, 410516 words/s, in_qsize 8, out_qsize 0\n",
      "2017-11-20 17:17:21,547 : INFO : PROGRESS: at 52.42% examples, 408244 words/s, in_qsize 6, out_qsize 1\n",
      "2017-11-20 17:17:22,553 : INFO : PROGRESS: at 52.98% examples, 407602 words/s, in_qsize 7, out_qsize 0\n",
      "2017-11-20 17:17:23,640 : INFO : PROGRESS: at 53.35% examples, 405130 words/s, in_qsize 7, out_qsize 0\n",
      "2017-11-20 17:17:24,652 : INFO : PROGRESS: at 53.92% examples, 404594 words/s, in_qsize 8, out_qsize 2\n",
      "2017-11-20 17:17:25,652 : INFO : PROGRESS: at 54.69% examples, 405633 words/s, in_qsize 6, out_qsize 1\n",
      "2017-11-20 17:17:26,664 : INFO : PROGRESS: at 55.64% examples, 407906 words/s, in_qsize 7, out_qsize 0\n",
      "2017-11-20 17:17:27,695 : INFO : PROGRESS: at 56.48% examples, 409141 words/s, in_qsize 6, out_qsize 1\n",
      "2017-11-20 17:17:28,729 : INFO : PROGRESS: at 57.13% examples, 409043 words/s, in_qsize 8, out_qsize 0\n",
      "2017-11-20 17:17:29,741 : INFO : PROGRESS: at 58.00% examples, 410714 words/s, in_qsize 7, out_qsize 1\n",
      "2017-11-20 17:17:30,771 : INFO : PROGRESS: at 58.77% examples, 411410 words/s, in_qsize 7, out_qsize 0\n",
      "2017-11-20 17:17:31,777 : INFO : PROGRESS: at 59.74% examples, 413672 words/s, in_qsize 8, out_qsize 0\n",
      "2017-11-20 17:17:32,811 : INFO : PROGRESS: at 60.66% examples, 415378 words/s, in_qsize 8, out_qsize 0\n",
      "2017-11-20 17:17:33,832 : INFO : PROGRESS: at 61.50% examples, 416487 words/s, in_qsize 7, out_qsize 0\n",
      "2017-11-20 17:17:34,840 : INFO : PROGRESS: at 62.19% examples, 416666 words/s, in_qsize 7, out_qsize 0\n",
      "2017-11-20 17:17:35,840 : INFO : PROGRESS: at 63.07% examples, 418144 words/s, in_qsize 8, out_qsize 0\n",
      "2017-11-20 17:17:36,858 : INFO : PROGRESS: at 64.06% examples, 420161 words/s, in_qsize 8, out_qsize 0\n",
      "2017-11-20 17:17:37,887 : INFO : PROGRESS: at 64.81% examples, 420651 words/s, in_qsize 6, out_qsize 1\n",
      "2017-11-20 17:17:38,913 : INFO : PROGRESS: at 65.60% examples, 421334 words/s, in_qsize 7, out_qsize 0\n",
      "2017-11-20 17:17:39,927 : INFO : PROGRESS: at 66.35% examples, 421783 words/s, in_qsize 7, out_qsize 0\n",
      "2017-11-20 17:17:40,942 : INFO : PROGRESS: at 67.31% examples, 423626 words/s, in_qsize 7, out_qsize 0\n",
      "2017-11-20 17:17:41,944 : INFO : PROGRESS: at 68.24% examples, 425282 words/s, in_qsize 6, out_qsize 1\n",
      "2017-11-20 17:17:42,969 : INFO : PROGRESS: at 69.22% examples, 427156 words/s, in_qsize 8, out_qsize 0\n",
      "2017-11-20 17:17:43,969 : INFO : PROGRESS: at 70.23% examples, 429232 words/s, in_qsize 7, out_qsize 0\n",
      "2017-11-20 17:17:44,988 : INFO : PROGRESS: at 71.23% examples, 431189 words/s, in_qsize 8, out_qsize 1\n",
      "2017-11-20 17:17:46,018 : INFO : PROGRESS: at 72.03% examples, 431852 words/s, in_qsize 7, out_qsize 0\n",
      "2017-11-20 17:17:47,025 : INFO : PROGRESS: at 72.90% examples, 433001 words/s, in_qsize 6, out_qsize 1\n",
      "2017-11-20 17:17:48,049 : INFO : PROGRESS: at 73.82% examples, 434323 words/s, in_qsize 8, out_qsize 0\n",
      "2017-11-20 17:17:49,063 : INFO : PROGRESS: at 74.42% examples, 433824 words/s, in_qsize 6, out_qsize 1\n",
      "2017-11-20 17:17:50,066 : INFO : PROGRESS: at 75.14% examples, 434032 words/s, in_qsize 8, out_qsize 0\n",
      "2017-11-20 17:17:51,068 : INFO : PROGRESS: at 75.93% examples, 434621 words/s, in_qsize 8, out_qsize 0\n",
      "2017-11-20 17:17:52,078 : INFO : PROGRESS: at 76.71% examples, 435169 words/s, in_qsize 8, out_qsize 0\n",
      "2017-11-20 17:17:53,104 : INFO : PROGRESS: at 77.52% examples, 435777 words/s, in_qsize 7, out_qsize 0\n",
      "2017-11-20 17:17:54,120 : INFO : PROGRESS: at 78.23% examples, 435908 words/s, in_qsize 7, out_qsize 0\n",
      "2017-11-20 17:17:55,127 : INFO : PROGRESS: at 79.02% examples, 436443 words/s, in_qsize 6, out_qsize 1\n",
      "2017-11-20 17:17:56,148 : INFO : PROGRESS: at 79.84% examples, 437164 words/s, in_qsize 7, out_qsize 0\n",
      "2017-11-20 17:17:57,164 : INFO : PROGRESS: at 80.70% examples, 438007 words/s, in_qsize 8, out_qsize 0\n",
      "2017-11-20 17:17:58,177 : INFO : PROGRESS: at 81.65% examples, 439330 words/s, in_qsize 7, out_qsize 0\n",
      "2017-11-20 17:17:59,192 : INFO : PROGRESS: at 82.66% examples, 440988 words/s, in_qsize 8, out_qsize 1\n",
      "2017-11-20 17:18:00,199 : INFO : PROGRESS: at 83.71% examples, 442764 words/s, in_qsize 7, out_qsize 0\n",
      "2017-11-20 17:18:01,223 : INFO : PROGRESS: at 84.63% examples, 443854 words/s, in_qsize 7, out_qsize 0\n",
      "2017-11-20 17:18:02,224 : INFO : PROGRESS: at 85.45% examples, 444488 words/s, in_qsize 7, out_qsize 0\n",
      "2017-11-20 17:18:03,240 : INFO : PROGRESS: at 86.27% examples, 444998 words/s, in_qsize 7, out_qsize 0\n",
      "2017-11-20 17:18:04,247 : INFO : PROGRESS: at 87.05% examples, 445412 words/s, in_qsize 8, out_qsize 1\n",
      "2017-11-20 17:18:05,250 : INFO : PROGRESS: at 87.80% examples, 445676 words/s, in_qsize 6, out_qsize 1\n",
      "2017-11-20 17:18:06,256 : INFO : PROGRESS: at 88.58% examples, 446088 words/s, in_qsize 7, out_qsize 1\n",
      "2017-11-20 17:18:07,259 : INFO : PROGRESS: at 89.42% examples, 446785 words/s, in_qsize 7, out_qsize 0\n",
      "2017-11-20 17:18:08,282 : INFO : PROGRESS: at 90.28% examples, 447521 words/s, in_qsize 7, out_qsize 0\n",
      "2017-11-20 17:18:09,285 : INFO : PROGRESS: at 91.04% examples, 447805 words/s, in_qsize 7, out_qsize 0\n",
      "2017-11-20 17:18:10,286 : INFO : PROGRESS: at 91.87% examples, 448479 words/s, in_qsize 8, out_qsize 0\n",
      "2017-11-20 17:18:11,294 : INFO : PROGRESS: at 92.79% examples, 449496 words/s, in_qsize 7, out_qsize 0\n",
      "2017-11-20 17:18:12,307 : INFO : PROGRESS: at 93.72% examples, 450542 words/s, in_qsize 7, out_qsize 0\n",
      "2017-11-20 17:18:13,313 : INFO : PROGRESS: at 94.79% examples, 452291 words/s, in_qsize 7, out_qsize 0\n",
      "2017-11-20 17:18:14,320 : INFO : PROGRESS: at 95.79% examples, 453642 words/s, in_qsize 7, out_qsize 0\n",
      "2017-11-20 17:18:15,320 : INFO : PROGRESS: at 96.80% examples, 455040 words/s, in_qsize 7, out_qsize 1\n",
      "2017-11-20 17:18:16,333 : INFO : PROGRESS: at 97.83% examples, 456484 words/s, in_qsize 7, out_qsize 0\n",
      "2017-11-20 17:18:17,338 : INFO : PROGRESS: at 98.85% examples, 457881 words/s, in_qsize 7, out_qsize 0\n",
      "2017-11-20 17:18:18,350 : INFO : PROGRESS: at 99.73% examples, 458616 words/s, in_qsize 5, out_qsize 2\n",
      "2017-11-20 17:18:18,557 : INFO : worker thread finished; awaiting finish of 3 more threads\n",
      "2017-11-20 17:18:18,567 : INFO : worker thread finished; awaiting finish of 2 more threads\n",
      "2017-11-20 17:18:18,576 : INFO : worker thread finished; awaiting finish of 1 more threads\n",
      "2017-11-20 17:18:18,587 : INFO : worker thread finished; awaiting finish of 0 more threads\n",
      "2017-11-20 17:18:18,587 : INFO : training on 88991315 raw words (63751821 effective words) took 138.9s, 459063 effective words/s\n"
     ]
    }
   ],
   "source": [
    "# Initialize and train the model (this will take some time)\n",
    "print (\"Training Word2Vec model...\")\n",
    "model = Word2Vec(sentences, workers=num_workers, \\\n",
    "            size=num_features, min_count = min_word_count, \\\n",
    "            window = context, sample = downsampling, seed=1)"
   ]
  },
  {
   "cell_type": "code",
   "execution_count": 99,
   "metadata": {},
   "outputs": [
    {
     "name": "stderr",
     "output_type": "stream",
     "text": [
      "2017-11-20 17:18:18,596 : INFO : precomputing L2-norms of word weight vectors\n"
     ]
    }
   ],
   "source": [
    "# If you don't plan to train the model any further, calling\n",
    "# init_sims will make the model much more memory-efficient.\n",
    "model.init_sims(replace=True)\n",
    "\n"
   ]
  },
  {
   "cell_type": "code",
   "execution_count": 100,
   "metadata": {},
   "outputs": [
    {
     "name": "stderr",
     "output_type": "stream",
     "text": [
      "2017-11-20 17:18:18,788 : INFO : saving Word2Vec object under 300features_40minwords_10context, separately None\n",
      "2017-11-20 17:18:18,790 : INFO : not storing attribute syn0norm\n",
      "2017-11-20 17:18:18,792 : INFO : not storing attribute cum_table\n",
      "2017-11-20 17:18:19,354 : INFO : saved 300features_40minwords_10context\n"
     ]
    },
    {
     "data": {
      "text/plain": [
       "'kitchen'"
      ]
     },
     "execution_count": 100,
     "metadata": {},
     "output_type": "execute_result"
    }
   ],
   "source": [
    "# It can be helpful to create a meaningful model name and\n",
    "# save the model for later use. You can load it later using Word2Vec.load()\n",
    "model_name = \"300features_40minwords_10context\"\n",
    "model.save(model_name)\n",
    "\n",
    "model.doesnt_match(\"man woman child kitchen\".split())\n",
    "\n"
   ]
  },
  {
   "cell_type": "code",
   "execution_count": 101,
   "metadata": {},
   "outputs": [
    {
     "data": {
      "text/plain": [
       "'soccer'"
      ]
     },
     "execution_count": 101,
     "metadata": {},
     "output_type": "execute_result"
    }
   ],
   "source": [
    "model.doesnt_match(\"france england germany soccer\".split())\n"
   ]
  },
  {
   "cell_type": "code",
   "execution_count": 102,
   "metadata": {},
   "outputs": [
    {
     "data": {
      "text/plain": [
       "[('football', 0.8019582033157349),\n",
       " ('basketball', 0.6822455525398254),\n",
       " ('baseball', 0.6104477047920227),\n",
       " ('hockey', 0.5870069265365601),\n",
       " ('poker', 0.5733761787414551),\n",
       " ('karate', 0.5655205845832825),\n",
       " ('shaolin', 0.5641036033630371),\n",
       " ('coach', 0.5601920485496521),\n",
       " ('wrestling', 0.5572823882102966),\n",
       " ('tournament', 0.5486419796943665)]"
      ]
     },
     "execution_count": 102,
     "metadata": {},
     "output_type": "execute_result"
    }
   ],
   "source": [
    "model.most_similar(\"soccer\")"
   ]
  },
  {
   "cell_type": "code",
   "execution_count": 103,
   "metadata": {},
   "outputs": [
    {
     "data": {
      "text/plain": [
       "[('woman', 0.628171443939209),\n",
       " ('lady', 0.608767032623291),\n",
       " ('lad', 0.5892797708511353),\n",
       " ('monk', 0.5312227010726929),\n",
       " ('guy', 0.5193687081336975),\n",
       " ('person', 0.5131346583366394),\n",
       " ('men', 0.5094210505485535),\n",
       " ('businessman', 0.5091702938079834),\n",
       " ('soldier', 0.5046564340591431),\n",
       " ('farmer', 0.5018607378005981)]"
      ]
     },
     "execution_count": 103,
     "metadata": {},
     "output_type": "execute_result"
    }
   ],
   "source": [
    "model.most_similar(\"man\")"
   ]
  },
  {
   "cell_type": "code",
   "execution_count": 104,
   "metadata": {},
   "outputs": [
    {
     "data": {
      "text/plain": [
       "array([ 0.08294438,  0.09365205, -0.01019135, -0.02807927,  0.06328106,\n",
       "        0.06167509,  0.05485168,  0.11575484, -0.0807623 ,  0.01002224,\n",
       "        0.00568845, -0.01088841, -0.00944785, -0.08507439, -0.07352228,\n",
       "        0.02799735,  0.00189405,  0.04518734, -0.0735028 , -0.02226606,\n",
       "       -0.01135812, -0.02398837,  0.02422931,  0.06925334,  0.05456444,\n",
       "        0.10508019,  0.03037182,  0.06283692,  0.01616112, -0.02634026,\n",
       "        0.01293414,  0.04824181,  0.00059082,  0.00768465, -0.041467  ,\n",
       "       -0.0869504 , -0.0036224 ,  0.04442183, -0.05944927,  0.01733784,\n",
       "        0.19935794, -0.01190334,  0.1084524 ,  0.03130502, -0.0919048 ,\n",
       "       -0.03814376, -0.05228624, -0.01711104, -0.1536831 ,  0.0533551 ,\n",
       "       -0.01246178, -0.02538078,  0.08439128, -0.05128423, -0.04612186,\n",
       "        0.08848056,  0.08427112, -0.01750396,  0.03326414,  0.04155844,\n",
       "        0.04855808,  0.09647816, -0.09666397,  0.08443837,  0.00070812,\n",
       "       -0.02591394, -0.00717265,  0.02041832,  0.07765272, -0.03827783,\n",
       "        0.01540685,  0.01697177, -0.09290157,  0.01128699,  0.07216848,\n",
       "        0.00689619, -0.03422041,  0.00831113, -0.00845244,  0.00322739,\n",
       "       -0.0542907 ,  0.00974288, -0.00813674, -0.05203289,  0.06200293,\n",
       "        0.0982969 ,  0.01591414, -0.04160105, -0.01661559,  0.0203616 ,\n",
       "       -0.01073939, -0.02827233,  0.11463492, -0.00882836,  0.00900936,\n",
       "       -0.08585124, -0.10277498,  0.05570647, -0.02408247, -0.00731842,\n",
       "       -0.00136847,  0.00454642, -0.06235957,  0.11660305, -0.04885125,\n",
       "       -0.10557877, -0.00050652, -0.03275093, -0.02319245, -0.00694074,\n",
       "        0.0452677 ,  0.00852204, -0.05929129,  0.04315861,  0.06680396,\n",
       "       -0.06200912,  0.01779502,  0.01397418,  0.07251737,  0.04405713,\n",
       "        0.08942527, -0.01291404, -0.00671038, -0.00387313,  0.00903952,\n",
       "       -0.07654852, -0.01893344,  0.09446672,  0.03681261,  0.04167686,\n",
       "        0.01249801,  0.06875657, -0.09202366,  0.04860216,  0.05341083,\n",
       "       -0.01190375, -0.00342792,  0.13863407,  0.04692719,  0.10589165,\n",
       "       -0.03077307,  0.03740043, -0.04900222,  0.05809216,  0.01987437,\n",
       "       -0.03440507,  0.03036072,  0.00126557,  0.040907  , -0.04835543,\n",
       "       -0.03486101, -0.11360004, -0.05811935, -0.03925828, -0.04042161,\n",
       "        0.08723919,  0.01146024, -0.05062866,  0.13078067, -0.10036648,\n",
       "        0.01905484,  0.03477032,  0.06040319,  0.01961784,  0.03342595,\n",
       "        0.02848985, -0.0089128 , -0.02399834, -0.05239508,  0.11318544,\n",
       "       -0.05470375, -0.04792362,  0.00183725,  0.0889169 ,  0.04785725,\n",
       "        0.03858902,  0.03021102,  0.03296014, -0.05987316,  0.08234991,\n",
       "       -0.08791195, -0.05192895, -0.02207684,  0.00101141,  0.10115463,\n",
       "        0.02568339,  0.07941634,  0.03995572,  0.09419203,  0.01195373,\n",
       "        0.05845734,  0.05438039, -0.05292502,  0.01899924,  0.0091249 ,\n",
       "        0.0413926 , -0.03194636,  0.00993308,  0.03638823,  0.0138693 ,\n",
       "       -0.05665322,  0.04778899, -0.03471321,  0.05180001, -0.04154466,\n",
       "        0.03854597, -0.08797736, -0.00548905, -0.01794336,  0.06888855,\n",
       "        0.03472244, -0.03143657,  0.02550607,  0.01306989,  0.0598184 ,\n",
       "       -0.03683434,  0.01317256, -0.06794065, -0.04238679,  0.02849899,\n",
       "        0.02138256,  0.02769941,  0.02939469,  0.02613568,  0.03467633,\n",
       "        0.02737378,  0.02327087, -0.07684496,  0.0644573 ,  0.07238859,\n",
       "        0.08311873,  0.08837587,  0.06246481,  0.00095453,  0.11945853,\n",
       "        0.09954696, -0.03344607,  0.07134717, -0.00426249,  0.01677442,\n",
       "       -0.01743395, -0.09479745, -0.07292049, -0.16077939, -0.07051022,\n",
       "        0.10712895, -0.10640455, -0.00346975, -0.03525573,  0.04614485,\n",
       "        0.01215706, -0.08242234,  0.01405652,  0.05805355,  0.11073692,\n",
       "       -0.07017195, -0.00403943, -0.04690679,  0.04568758,  0.08887844,\n",
       "       -0.05978096,  0.04606999, -0.00672362, -0.01629545, -0.07481452,\n",
       "       -0.07044719,  0.06568062, -0.01136897, -0.07251112, -0.037388  ,\n",
       "        0.04327504,  0.01437828,  0.04755205,  0.04241186,  0.01193846,\n",
       "       -0.10388441, -0.00734913, -0.0152893 ,  0.0097481 ,  0.09333143,\n",
       "       -0.03594988,  0.02430549, -0.05026274, -0.04689601, -0.13376281,\n",
       "        0.02421485,  0.00823828,  0.06288377,  0.02648783,  0.03676421,\n",
       "       -0.03227473,  0.03972424, -0.0567317 , -0.02216231,  0.02111207,\n",
       "        0.00712598,  0.02675715, -0.02998493,  0.14591855, -0.06743888], dtype=float32)"
      ]
     },
     "execution_count": 104,
     "metadata": {},
     "output_type": "execute_result"
    }
   ],
   "source": [
    "model[\"computer\"]"
   ]
  },
  {
   "cell_type": "code",
   "execution_count": 105,
   "metadata": {},
   "outputs": [
    {
     "data": {
      "text/plain": [
       "[('truck', 0.7591674327850342),\n",
       " ('bus', 0.6632853746414185),\n",
       " ('train', 0.652910053730011),\n",
       " ('jeep', 0.6469144821166992),\n",
       " ('bike', 0.6394062638282776),\n",
       " ('plane', 0.6203683018684387),\n",
       " ('garage', 0.6038002967834473),\n",
       " ('helicopter', 0.5998272895812988),\n",
       " ('chevy', 0.5922732353210449),\n",
       " ('leg', 0.5807334184646606)]"
      ]
     },
     "execution_count": 105,
     "metadata": {},
     "output_type": "execute_result"
    }
   ],
   "source": [
    "model.most_similar(\"car\")"
   ]
  }
 ],
 "metadata": {
  "kernelspec": {
   "display_name": "Python 3",
   "language": "python",
   "name": "python3"
  },
  "language_info": {
   "codemirror_mode": {
    "name": "ipython",
    "version": 3
   },
   "file_extension": ".py",
   "mimetype": "text/x-python",
   "name": "python",
   "nbconvert_exporter": "python",
   "pygments_lexer": "ipython3",
   "version": "3.6.4"
  }
 },
 "nbformat": 4,
 "nbformat_minor": 2
}
