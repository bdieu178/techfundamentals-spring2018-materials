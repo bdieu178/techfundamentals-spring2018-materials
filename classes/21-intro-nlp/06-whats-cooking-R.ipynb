{
 "cells": [
  {
   "cell_type": "markdown",
   "metadata": {},
   "source": [
    "# What is cooking introduction in R\n",
    "Adopted from:\n",
    "https://www.kaggle.com/amhchiu/whats-cooking/bag-of-ingredients-in-r/code\n"
   ]
  },
  {
   "cell_type": "code",
   "execution_count": 7,
   "metadata": {},
   "outputs": [],
   "source": [
    "install.packages(\"rpart.plot\", repos=\"http://cran.rstudio.com/\")\n",
    "install.packages(\"RJSONIO\", repos=\"http://cran.rstudio.com/\")\n",
    "install.packages(\"dplyr\", repos=\"http://cran.rstudio.com/\")\n",
    "install.packages(\"tm\", repos=\"http://cran.rstudio.com/\")\n",
    "install.packages(\"caret\", repos=\"http://cran.rstudio.com/\")\n",
    "install.packages(\"ggplot2\", repos=\"http://cran.rstudio.com/\")\n",
    "install.packages('randomForest', repos=\"http://cran.rstudio.com/\")"
   ]
  },
  {
   "cell_type": "code",
   "execution_count": 35,
   "metadata": {
    "collapsed": true
   },
   "outputs": [],
   "source": [
    "install.packages('jsonlite', repos=\"http://cran.rstudio.com/\")"
   ]
  },
  {
   "cell_type": "code",
   "execution_count": 1,
   "metadata": {},
   "outputs": [
    {
     "name": "stderr",
     "output_type": "stream",
     "text": [
      "randomForest 4.6-12\n",
      "Type rfNews() to see new features/changes/bug fixes.\n",
      "\n",
      "Attaching package: ‘dplyr’\n",
      "\n",
      "The following object is masked from ‘package:randomForest’:\n",
      "\n",
      "    combine\n",
      "\n",
      "The following objects are masked from ‘package:stats’:\n",
      "\n",
      "    filter, lag\n",
      "\n",
      "The following objects are masked from ‘package:base’:\n",
      "\n",
      "    intersect, setdiff, setequal, union\n",
      "\n",
      "\n",
      "Attaching package: ‘ggplot2’\n",
      "\n",
      "The following object is masked from ‘package:randomForest’:\n",
      "\n",
      "    margin\n",
      "\n",
      "Loading required package: NLP\n",
      "\n",
      "Attaching package: ‘NLP’\n",
      "\n",
      "The following object is masked from ‘package:ggplot2’:\n",
      "\n",
      "    annotate\n",
      "\n",
      "Loading required package: lattice\n"
     ]
    }
   ],
   "source": [
    "library(randomForest)\n",
    "library(RJSONIO)\n",
    "library(dplyr)\n",
    "library(ggplot2)\n",
    "library(tm) # For NLP; creating bag-of-words\n",
    "library(caret)\n",
    "library(rpart)\n",
    "library(rpart.plot)"
   ]
  },
  {
   "cell_type": "code",
   "execution_count": 2,
   "metadata": {},
   "outputs": [
    {
     "name": "stderr",
     "output_type": "stream",
     "text": [
      "IOPub data rate exceeded.\n",
      "The notebook server will temporarily stop sending output\n",
      "to the client in order to avoid crashing it.\n",
      "To change this limit, set the config variable\n",
      "`--NotebookApp.iopub_data_rate_limit`.\n"
     ]
    }
   ],
   "source": [
    "test <- fromJSON(\"../input/test.json\", flatten = TRUE)\n",
    "train <- fromJSON(\"../input/train.json\", flatten = TRUE)\n",
    "train"
   ]
  },
  {
   "cell_type": "code",
   "execution_count": null,
   "metadata": {
    "collapsed": true
   },
   "outputs": [],
   "source": [
    "train"
   ]
  },
  {
   "cell_type": "code",
   "execution_count": 38,
   "metadata": {},
   "outputs": [
    {
     "ename": "ERROR",
     "evalue": "Error: ggplot2 doesn't know how to deal with data of class list\n",
     "output_type": "error",
     "traceback": [
      "Error: ggplot2 doesn't know how to deal with data of class list\nTraceback:\n",
      "1. ggplot(data = train, aes(x = cuisine))",
      "2. ggplot.default(data = train, aes(x = cuisine))",
      "3. ggplot.data.frame(fortify(data, ...), mapping, environment = environment)",
      "4. structure(list(data = data, layers = list(), scales = scales_list(), \n .     mapping = mapping, theme = list(), coordinates = coord_cartesian(), \n .     facet = facet_null(), plot_env = environment), class = c(\"gg\", \n .     \"ggplot\"))",
      "5. fortify(data, ...)",
      "6. fortify.default(data, ...)",
      "7. stop(\"ggplot2 doesn't know how to deal with data of class \", \n .     paste(class(model), collapse = \"/\"), call. = FALSE)"
     ]
    }
   ],
   "source": [
    "#Now let's take a look at the data. \n",
    "ggplot(data = train, aes(x = cuisine)) + \n",
    "  geom_histogram() +\n",
    "  labs(title = \"Cuisines\", x = \"Cuisine\", y = \"Number of Recipes\")"
   ]
  },
  {
   "cell_type": "code",
   "execution_count": 12,
   "metadata": {
    "scrolled": true
   },
   "outputs": [
    {
     "name": "stderr",
     "output_type": "stream",
     "text": [
      "Saving 14 x 14 in image\n"
     ]
    },
    {
     "ename": "ERROR",
     "evalue": "Error in if (is.waive(data) || empty(data)) return(cbind(data, PANEL = integer(0))): missing value where TRUE/FALSE needed\n",
     "output_type": "error",
     "traceback": [
      "Error in if (is.waive(data) || empty(data)) return(cbind(data, PANEL = integer(0))): missing value where TRUE/FALSE needed\nTraceback:\n",
      "1. ggsave(ggoutput, file = \"ggoutput.pdf\", scale = 2)",
      "2. grid.draw(plot)",
      "3. grid.draw.ggplot(plot)",
      "4. print(x)",
      "5. print.ggplot(x)",
      "6. ggplot_build(x)",
      "7. map_layout(panel, plot$facet, layer_data)",
      "8. lapply(data, function(data) {\n .     facet_map_layout(facet, data, panel$layout)\n . })",
      "9. FUN(X[[i]], ...)",
      "10. facet_map_layout(facet, data, panel$layout)",
      "11. facet_map_layout.null(facet, data, panel$layout)"
     ]
    }
   ],
   "source": [
    "#Wow, that graph seemed interesting, but I can't read it.  Let's instead save it to a file. Much better.\n",
    "#First we assign the chart to an object. \n",
    "ggoutput<-ggplot(data = train, aes(x = cuisine)) + \n",
    "    geom_histogram() +\n",
    "    labs(title = \"Cuisines\", x = \"Cuisine\", y = \"Number of Recipes\")\n",
    "\n",
    "#This saves it to a file\n",
    "ggsave(ggoutput, file=\"ggoutput.pdf\", scale=2)"
   ]
  },
  {
   "cell_type": "code",
   "execution_count": 13,
   "metadata": {},
   "outputs": [
    {
     "ename": "ERROR",
     "evalue": "Error in train$cuisine: object of type 'closure' is not subsettable\n",
     "output_type": "error",
     "traceback": [
      "Error in train$cuisine: object of type 'closure' is not subsettable\nTraceback:\n",
      "1. table(train$cuisine)"
     ]
    }
   ],
   "source": [
    "#We also know how to aggregate to see this. \n",
    "table(train$cuisine)\n"
   ]
  },
  {
   "cell_type": "code",
   "execution_count": 14,
   "metadata": {},
   "outputs": [
    {
     "ename": "ERROR",
     "evalue": "Error in test$cuisine = \"italian\": object 'test' not found\n",
     "output_type": "error",
     "traceback": "Error in test$cuisine = \"italian\": object 'test' not found\nTraceback:\n"
    }
   ],
   "source": [
    "#Let's create the Niave Model based on those results. \n",
    "test$cuisine =\"italian\""
   ]
  },
  {
   "cell_type": "code",
   "execution_count": 15,
   "metadata": {},
   "outputs": [
    {
     "ename": "ERROR",
     "evalue": "Error in eval(expr, envir, enclos): object 'test' not found\n",
     "output_type": "error",
     "traceback": "Error in eval(expr, envir, enclos): object 'test' not found\nTraceback:\n"
    }
   ],
   "source": [
    "#Create Dataframe For Submission\n",
    "submission<-test[,c('id','cuisine')]\n",
    "\n",
    "#Naive Model (This is our benchmark. 0.19268 Accuracy and 693 place)  Boom. we just beat 17 people. \n",
    "write.csv(submission, \"submission.csv\", row.names=FALSE)\n",
    "\n"
   ]
  },
  {
   "cell_type": "code",
   "execution_count": 16,
   "metadata": {},
   "outputs": [
    {
     "ename": "ERROR",
     "evalue": "Error in train$ingredients: object of type 'closure' is not subsettable\n",
     "output_type": "error",
     "traceback": [
      "Error in train$ingredients: object of type 'closure' is not subsettable\nTraceback:\n",
      "1. Corpus(VectorSource(train$ingredients))",
      "2. stopifnot(inherits(x, \"Source\"))",
      "3. inherits(x, \"Source\")",
      "4. VectorSource(train$ingredients)",
      "5. SimpleSource(length = length(x), content = x, class = \"VectorSource\")"
     ]
    }
   ],
   "source": [
    "#Now let's start the process of creating a corpus\n",
    "MyCorpus <- Corpus(VectorSource(train$ingredients))\n",
    "MyCorpus2 <- Corpus(VectorSource(test$ingredients))\n"
   ]
  },
  {
   "cell_type": "code",
   "execution_count": 17,
   "metadata": {},
   "outputs": [
    {
     "ename": "ERROR",
     "evalue": "Error in tm_map(MyCorpus, stemDocument, lazy = TRUE): object 'MyCorpus' not found\n",
     "output_type": "error",
     "traceback": [
      "Error in tm_map(MyCorpus, stemDocument, lazy = TRUE): object 'MyCorpus' not found\nTraceback:\n",
      "1. tm_map(MyCorpus, stemDocument, lazy = TRUE)"
     ]
    }
   ],
   "source": [
    "#Observe the corpus before and after this. \n",
    "MyCorpus <- tm_map(MyCorpus, stemDocument, lazy=TRUE)\n",
    "MyCorpus2 <- tm_map(MyCorpus2, stemDocument, lazy=TRUE)"
   ]
  },
  {
   "cell_type": "code",
   "execution_count": 18,
   "metadata": {},
   "outputs": [
    {
     "ename": "ERROR",
     "evalue": "Error in TermDocumentMatrix(x, control): object 'MyCorpus' not found\n",
     "output_type": "error",
     "traceback": [
      "Error in TermDocumentMatrix(x, control): object 'MyCorpus' not found\nTraceback:\n",
      "1. DocumentTermMatrix(MyCorpus)",
      "2. t(TermDocumentMatrix(x, control))",
      "3. TermDocumentMatrix(x, control)"
     ]
    }
   ],
   "source": [
    "#This creates a Document Term Matrix. \n",
    "ingredientsDTM <- DocumentTermMatrix(MyCorpus)\n",
    "ingredientsDTM2 <- DocumentTermMatrix(MyCorpus2)"
   ]
  },
  {
   "cell_type": "code",
   "execution_count": 19,
   "metadata": {},
   "outputs": [
    {
     "ename": "ERROR",
     "evalue": "Error in inherits(x, c(\"DocumentTermMatrix\", \"TermDocumentMatrix\")): object 'ingredientsDTM' not found\n",
     "output_type": "error",
     "traceback": [
      "Error in inherits(x, c(\"DocumentTermMatrix\", \"TermDocumentMatrix\")): object 'ingredientsDTM' not found\nTraceback:\n",
      "1. removeSparseTerms(ingredientsDTM, 0.995)",
      "2. stopifnot(inherits(x, c(\"DocumentTermMatrix\", \"TermDocumentMatrix\")), \n .     is.numeric(sparse), sparse > 0, sparse < 1)",
      "3. inherits(x, c(\"DocumentTermMatrix\", \"TermDocumentMatrix\"))"
     ]
    }
   ],
   "source": [
    "#This removes most of the terms.  We are just going to start with a few. \n",
    "sparse <- removeSparseTerms(ingredientsDTM, 0.995)\n",
    "sparse2 <- removeSparseTerms(ingredientsDTM2, 0.995)"
   ]
  },
  {
   "cell_type": "code",
   "execution_count": 20,
   "metadata": {},
   "outputs": [
    {
     "ename": "ERROR",
     "evalue": "Error in as.matrix(sparse): object 'sparse' not found\n",
     "output_type": "error",
     "traceback": [
      "Error in as.matrix(sparse): object 'sparse' not found\nTraceback:\n",
      "1. as.data.frame(as.matrix(sparse))",
      "2. as.matrix(sparse)"
     ]
    }
   ],
   "source": [
    "#This goes through the process of changing out term document matrix to a data frame we can use for marketing\n",
    "ingredientsDTM <- as.data.frame(as.matrix(sparse))\n",
    "ingredientsDTM2 <- as.data.frame(as.matrix(sparse2))"
   ]
  },
  {
   "cell_type": "code",
   "execution_count": 21,
   "metadata": {},
   "outputs": [
    {
     "ename": "ERROR",
     "evalue": "Error in eval(expr, envir, enclos): object 'ingredientsDTM' not found\n",
     "output_type": "error",
     "traceback": "Error in eval(expr, envir, enclos): object 'ingredientsDTM' not found\nTraceback:\n"
    }
   ],
   "source": [
    "#We have a problem though....We only want to use terms \n",
    "trainColumns<-names(ingredientsDTM)\n",
    "testColumns<-names(ingredientsDTM2)\n",
    "\n",
    "intersect<-intersect(trainColumns,testColumns)"
   ]
  },
  {
   "cell_type": "code",
   "execution_count": 22,
   "metadata": {},
   "outputs": [
    {
     "ename": "ERROR",
     "evalue": "Error in eval(expr, envir, enclos): object 'ingredientsDTM' not found\n",
     "output_type": "error",
     "traceback": "Error in eval(expr, envir, enclos): object 'ingredientsDTM' not found\nTraceback:\n"
    }
   ],
   "source": [
    "#This removes about 10 columns that aren't in both. \n",
    "ingredientsDTM<- ingredientsDTM[,c(intersect)]\n",
    "ingredientsDTM2<- ingredientsDTM2[,c(intersect)]"
   ]
  },
  {
   "cell_type": "code",
   "execution_count": 23,
   "metadata": {},
   "outputs": [
    {
     "ename": "ERROR",
     "evalue": "Error in train$cuisine: object of type 'closure' is not subsettable\n",
     "output_type": "error",
     "traceback": [
      "Error in train$cuisine: object of type 'closure' is not subsettable\nTraceback:\n",
      "1. as.factor(train$cuisine)",
      "2. is.factor(x)"
     ]
    }
   ],
   "source": [
    "ingredientsDTM$cuisine <- as.factor(train$cuisine)"
   ]
  },
  {
   "cell_type": "code",
   "execution_count": 24,
   "metadata": {},
   "outputs": [
    {
     "ename": "ERROR",
     "evalue": "Error in is.data.frame(data): object 'ingredientsDTM' not found\n",
     "output_type": "error",
     "traceback": [
      "Error in is.data.frame(data): object 'ingredientsDTM' not found\nTraceback:\n",
      "1. rpart(cuisine ~ ., data = ingredientsDTM, method = \"class\")",
      "2. eval.parent(temp)",
      "3. eval(expr, p)",
      "4. eval(expr, envir, enclos)",
      "5. stats::model.frame(formula = cuisine ~ ., data = ingredientsDTM, \n .     na.action = function (x) \n .     {\n .         Terms <- attr(x, \"terms\")\n .         if (!is.null(Terms)) \n .             yvar <- attr(Terms, \"response\")\n .         else yvar <- 0L\n .         if (yvar == 0L) {\n .             xmiss <- is.na(x)\n .             keep <- (xmiss %*% rep(1, ncol(xmiss))) < ncol(xmiss)\n .         }\n .         else {\n .             xmiss <- is.na(x[-yvar])\n .             ymiss <- is.na(x[[yvar]])\n .             keep <- if (is.matrix(ymiss)) \n .                 ((xmiss %*% rep(1, ncol(xmiss))) < ncol(xmiss)) & \n .                   ((ymiss %*% rep(1, ncol(ymiss))) == 0)\n .             else ((xmiss %*% rep(1, ncol(xmiss))) < ncol(xmiss)) & \n .                 !ymiss\n .         }\n .         if (all(keep)) \n .             x\n .         else {\n .             temp <- seq(keep)[!keep]\n .             names(temp) <- row.names(x)[!keep]\n .             class(temp) <- c(\"na.rpart\", \"omit\")\n .             structure(x[keep, , drop = FALSE], na.action = temp)\n .         }\n .     })",
      "6. model.frame.default(formula = cuisine ~ ., data = ingredientsDTM, \n .     na.action = function (x) \n .     {\n .         Terms <- attr(x, \"terms\")\n .         if (!is.null(Terms)) \n .             yvar <- attr(Terms, \"response\")\n .         else yvar <- 0L\n .         if (yvar == 0L) {\n .             xmiss <- is.na(x)\n .             keep <- (xmiss %*% rep(1, ncol(xmiss))) < ncol(xmiss)\n .         }\n .         else {\n .             xmiss <- is.na(x[-yvar])\n .             ymiss <- is.na(x[[yvar]])\n .             keep <- if (is.matrix(ymiss)) \n .                 ((xmiss %*% rep(1, ncol(xmiss))) < ncol(xmiss)) & \n .                   ((ymiss %*% rep(1, ncol(ymiss))) == 0)\n .             else ((xmiss %*% rep(1, ncol(xmiss))) < ncol(xmiss)) & \n .                 !ymiss\n .         }\n .         if (all(keep)) \n .             x\n .         else {\n .             temp <- seq(keep)[!keep]\n .             names(temp) <- row.names(x)[!keep]\n .             class(temp) <- c(\"na.rpart\", \"omit\")\n .             structure(x[keep, , drop = FALSE], na.action = temp)\n .         }\n .     })",
      "7. is.data.frame(data)"
     ]
    }
   ],
   "source": [
    "set.seed(9347)\n",
    "cartModelFit <- rpart(cuisine ~ ., data = ingredientsDTM, method = \"class\")\n",
    "prp(cartModelFit)"
   ]
  },
  {
   "cell_type": "code",
   "execution_count": 25,
   "metadata": {},
   "outputs": [
    {
     "ename": "ERROR",
     "evalue": "Error in predict(cartModelFit, newdata = ingredientsDTM2, type = \"class\"): object 'cartModelFit' not found\n",
     "output_type": "error",
     "traceback": [
      "Error in predict(cartModelFit, newdata = ingredientsDTM2, type = \"class\"): object 'cartModelFit' not found\nTraceback:\n",
      "1. predict(cartModelFit, newdata = ingredientsDTM2, type = \"class\")"
     ]
    }
   ],
   "source": [
    "#This generates the class prediction.  \n",
    "cartPredict<-predict(cartModelFit, newdata = ingredientsDTM2, type = \"class\")"
   ]
  },
  {
   "cell_type": "code",
   "execution_count": 26,
   "metadata": {},
   "outputs": [
    {
     "ename": "ERROR",
     "evalue": "Error in data.frame(id = test$id, cuisine = cartPredict): object 'test' not found\n",
     "output_type": "error",
     "traceback": [
      "Error in data.frame(id = test$id, cuisine = cartPredict): object 'test' not found\nTraceback:\n",
      "1. data.frame(id = test$id, cuisine = cartPredict)"
     ]
    }
   ],
   "source": [
    "#This creates our final submission data frame. \n",
    "submit <- data.frame(id = test$id, cuisine = cartPredict)\n",
    "\n",
    "#Tree  Now the accuracy is 0.40115.  We have improved!\n",
    "write.csv(submit, file = \"myfirstdtree.csv\", row.names = FALSE)\n"
   ]
  },
  {
   "cell_type": "code",
   "execution_count": 27,
   "metadata": {},
   "outputs": [
    {
     "ename": "ERROR",
     "evalue": "Error in gsub(\"-\", \"\", names(ingredientsDTM)): object 'ingredientsDTM' not found\n",
     "output_type": "error",
     "traceback": [
      "Error in gsub(\"-\", \"\", names(ingredientsDTM)): object 'ingredientsDTM' not found\nTraceback:\n",
      "1. gsub(\"-\", \"\", names(ingredientsDTM))"
     ]
    }
   ],
   "source": [
    "#It seems that random forests package doesn't work with \"-\" in the column name. You can try yourself.\n",
    "names(ingredientsDTM) <- gsub(\"-\", \"\", names(ingredientsDTM))\n",
    "names(ingredientsDTM2) <- gsub(\"-\", \"\", names(ingredientsDTM2))"
   ]
  },
  {
   "cell_type": "code",
   "execution_count": 28,
   "metadata": {},
   "outputs": [
    {
     "ename": "ERROR",
     "evalue": "Error in eval(expr, envir, enclos): object 'ingredientsDTM' not found\n",
     "output_type": "error",
     "traceback": [
      "Error in eval(expr, envir, enclos): object 'ingredientsDTM' not found\nTraceback:\n",
      "1. randomForest(cuisine ~ ., data = ingredientsDTM, importance = TRUE, \n .     ntree = 1)",
      "2. randomForest.formula(cuisine ~ ., data = ingredientsDTM, importance = TRUE, \n .     ntree = 1)",
      "3. eval(m$data, parent.frame())",
      "4. eval(expr, envir, enclos)"
     ]
    }
   ],
   "source": [
    "#Boom with 1 tree we improved to an accuracy of  0.54354\n",
    "forestmodel <- randomForest(cuisine ~ ., data=ingredientsDTM, importance=TRUE, ntree=1)\n",
    "forestPredict<-predict(forestmodel, newdata = ingredientsDTM2, type = \"class\")\n",
    "\n"
   ]
  },
  {
   "cell_type": "code",
   "execution_count": 29,
   "metadata": {},
   "outputs": [
    {
     "ename": "ERROR",
     "evalue": "Error in data.frame(id = test$id, cuisine = forestPredict): object 'test' not found\n",
     "output_type": "error",
     "traceback": [
      "Error in data.frame(id = test$id, cuisine = forestPredict): object 'test' not found\nTraceback:\n",
      "1. data.frame(id = test$id, cuisine = forestPredict)"
     ]
    }
   ],
   "source": [
    "#Create Submssion Data Frame\n",
    "submit3 <- data.frame(id = test$id, cuisine = forestPredict)\n",
    "write.csv(submit3, file = \"3_forest.csv\", row.names = FALSE)"
   ]
  },
  {
   "cell_type": "code",
   "execution_count": 30,
   "metadata": {},
   "outputs": [
    {
     "ename": "ERROR",
     "evalue": "Error in eval(expr, envir, enclos): object 'ingredientsDTM' not found\n",
     "output_type": "error",
     "traceback": [
      "Error in eval(expr, envir, enclos): object 'ingredientsDTM' not found\nTraceback:\n",
      "1. randomForest(cuisine ~ ., data = ingredientsDTM, importance = TRUE, \n .     ntree = 100)",
      "2. randomForest.formula(cuisine ~ ., data = ingredientsDTM, importance = TRUE, \n .     ntree = 100)",
      "3. eval(m$data, parent.frame())",
      "4. eval(expr, envir, enclos)"
     ]
    }
   ],
   "source": [
    "#Double boom with 100 trees we move up even further to  0.74387\n",
    "forestmodel <- randomForest(cuisine ~ ., data=ingredientsDTM, importance=TRUE, ntree=100)\n",
    "forestPredict<-predict(forestmodel, newdata = ingredientsDTM2, type = \"class\")"
   ]
  },
  {
   "cell_type": "code",
   "execution_count": 31,
   "metadata": {},
   "outputs": [
    {
     "ename": "ERROR",
     "evalue": "Error in data.frame(id = test$id, cuisine = forestPredict): object 'test' not found\n",
     "output_type": "error",
     "traceback": [
      "Error in data.frame(id = test$id, cuisine = forestPredict): object 'test' not found\nTraceback:\n",
      "1. data.frame(id = test$id, cuisine = forestPredict)"
     ]
    }
   ],
   "source": [
    "#Create Submssion Data Frame\n",
    "submit4 <- data.frame(id = test$id, cuisine = forestPredict)\n",
    "write.csv(submit4, file = \"4_forest.csv\", row.names = FALSE)\n"
   ]
  },
  {
   "cell_type": "code",
   "execution_count": 32,
   "metadata": {},
   "outputs": [
    {
     "ename": "ERROR",
     "evalue": "Error in is.data.frame(x): object 'ingredientsDTM' not found\n",
     "output_type": "error",
     "traceback": [
      "Error in is.data.frame(x): object 'ingredientsDTM' not found\nTraceback:\n",
      "1. rowSums(ingredientsDTM)",
      "2. is.data.frame(x)"
     ]
    }
   ],
   "source": [
    "#Where to go next: \n",
    "#Let's try some more feature engineerning. \n",
    "ingredientsDTM$ingredients_count  <- rowSums(ingredientsDTM)\n",
    "\n",
    "#Another strategy could be to create a corpus from both the training and the test set. \n",
    "MyCorpus3  <- c(Corpus(VectorSource(train$ingredients)), Corpus(VectorSource(test$ingredients)))"
   ]
  }
 ],
 "metadata": {
  "kernelspec": {
   "display_name": "R",
   "language": "R",
   "name": "ir"
  },
  "language_info": {
   "codemirror_mode": "r",
   "file_extension": ".r",
   "mimetype": "text/x-r-source",
   "name": "R",
   "pygments_lexer": "r",
   "version": "3.3.1"
  }
 },
 "nbformat": 4,
 "nbformat_minor": 1
}
