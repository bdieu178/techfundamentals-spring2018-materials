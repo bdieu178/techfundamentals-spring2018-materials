{
 "cells": [
  {
   "cell_type": "markdown",
   "metadata": {},
   "source": [
    "## Check Current Directory\n",
    "The `pwd` command will checking you are entering commands from the appropriate directory. \n",
    "\n",
    "This should output '/home/jovyan/techfundamentals-fall2017-materials.'   "
   ]
  },
  {
   "cell_type": "code",
   "execution_count": 1,
   "metadata": {},
   "outputs": [
    {
     "name": "stdout",
     "output_type": "stream",
     "text": [
      "/Users/jasonkuruzovich/githubdesktop/0_class/techfundamentals-fall2017-materials\n"
     ]
    }
   ],
   "source": [
    "%%bash\n",
    "pwd"
   ]
  },
  {
   "cell_type": "markdown",
   "metadata": {},
   "source": [
    "## Store Git Data\n",
    "This should enable you to store your git login.  Currently in this setup it isn't recommended, as it will store your password in an unencrypted file. "
   ]
  },
  {
   "cell_type": "code",
   "execution_count": 3,
   "metadata": {
    "collapsed": true
   },
   "outputs": [],
   "source": [
    "%%bash\n",
    "git config --global credential.helper libsecret\n"
   ]
  },
  {
   "cell_type": "markdown",
   "metadata": {},
   "source": [
    "## Pull Changes from the `techfundamentals-materials` Repository\n",
    "This could work in many cases, but you will find that it will likely fail if you have actively run through some examples.  I've committed some of the files that were previously changed. This is one challenge in working with Jupyter notebooks, as they are subject to this issue. \n"
   ]
  },
  {
   "cell_type": "code",
   "execution_count": null,
   "metadata": {
    "collapsed": true
   },
   "outputs": [],
   "source": [
    "%%bash\n",
    "git pull"
   ]
  },
  {
   "cell_type": "markdown",
   "metadata": {
    "collapsed": true
   },
   "source": [
    "## Stash Changes and then Pull\n",
    "Because the materials directory is not used for assignments, it should be OK to go through and wipe out your local changes.   \n",
    "\n",
    "Here is a bit of a more detailed description though of how to \n",
    "\n",
    "Type 1. Staged Tracked files\n",
    "Type 2. Unstaged Tracked files\n",
    "Type 3. Unstaged UnTracked files a.k.a UnTracked files\n",
    "\n",
    "Staged - Those that are moved to staging area/ Added to index\n",
    "Tracked - modified files\n",
    "UnTracked - new files. Always unstaged. If staged, that means they are tracked.\n",
    "\n",
    "What each commands do:\n",
    "git checkout . - Removes Unstaged Tracked files ONLY [Type 2]\n",
    "git clean -f - Removes Unstaged UnTracked files ONLY [Type 3]\n",
    "git reset --hard - Removes Staged Tracked and UnStaged Tracked files ONLY[Type 1, Type 2]\n",
    "git stash -u - Removes all changes [Type 1, Type 2, Type 3]\n",
    "\n",
    "** Warning: This will discard the local changes and pull the new files. **"
   ]
  },
  {
   "cell_type": "code",
   "execution_count": null,
   "metadata": {
    "collapsed": true
   },
   "outputs": [],
   "source": [
    "%%bash\n",
    "git stash -u\n",
    "git pull"
   ]
  },
  {
   "cell_type": "markdown",
   "metadata": {},
   "source": [
    "### Delete Repository and Clone Again\n",
    "You can always restart and clone again. "
   ]
  },
  {
   "cell_type": "code",
   "execution_count": null,
   "metadata": {
    "collapsed": true
   },
   "outputs": [],
   "source": [
    "%%bash\n",
    "cd ..\n",
    "rm -rf techfundamentals-fall2017-materials\n",
    "git clone https://github.com/jkuruzovich/techfundamentals-fall2017-materials"
   ]
  },
  {
   "cell_type": "markdown",
   "metadata": {},
   "source": [
    "## Cloning a New Repository\n",
    "This is an easy way of cloning a new repository."
   ]
  },
  {
   "cell_type": "code",
   "execution_count": null,
   "metadata": {
    "collapsed": true
   },
   "outputs": [],
   "source": [
    "repository=\"https://github.com/jupyterhub/helm-chart\""
   ]
  },
  {
   "cell_type": "code",
   "execution_count": null,
   "metadata": {
    "collapsed": true
   },
   "outputs": [],
   "source": [
    "%%bash -s \"$repository\"\n",
    "cd ..\n",
    "git clone $1\n"
   ]
  },
  {
   "cell_type": "markdown",
   "metadata": {},
   "source": [
    "## Committing Your Changes Changes\n",
    "- Want to commit and your changes?  OK, we are making it easier on you here.  Fill in your commit message.\n",
    "- Just now go to a terminal and use the `git push` command and it will prompt you for your password and push the changes (we can't do that directly here.)"
   ]
  },
  {
   "cell_type": "code",
   "execution_count": null,
   "metadata": {
    "collapsed": true
   },
   "outputs": [],
   "source": [
    "commitmessage=\"Finished Update for Homework 2.\" "
   ]
  },
  {
   "cell_type": "code",
   "execution_count": null,
   "metadata": {
    "collapsed": true
   },
   "outputs": [],
   "source": [
    "%%bash -s \"$repository\" \"$commitmessage\"\n",
    "cd ../$1\n",
    "git add -A\n",
    "git commit -m $2\n",
    "#\n"
   ]
  },
  {
   "cell_type": "markdown",
   "metadata": {},
   "source": [
    "## Deleting the Repository and Recloneing\n",
    "This is a way of deleting a repository to start over. \n",
    "\n",
    "**Warning, this will delete your repository and start over.**"
   ]
  },
  {
   "cell_type": "code",
   "execution_count": null,
   "metadata": {
    "collapsed": true
   },
   "outputs": [],
   "source": [
    "%%bash -s \"$repository\"\n",
    "cd ..\n",
    "rm -rf $1\n",
    "git clone $1"
   ]
  },
  {
   "cell_type": "markdown",
   "metadata": {},
   "source": [
    "## Converting Files from Jupyter to REVEAL.JS\n",
    "Jupyter can convert files to a Reveal.JS presentation. [Reveal.JS](http://lab.hakim.se/reveal-js/#/) is a broader way of making presentations HTML friendly. \n",
    "\n",
    "You convert from Jupyter to a presentation via [nbconvert](https://nbconvert.readthedocs.io)."
   ]
  },
  {
   "cell_type": "code",
   "execution_count": 8,
   "metadata": {},
   "outputs": [
    {
     "data": {
      "text/plain": [
       "'/Users/jasonkuruzovich/githubdesktop/0_class/techfundamentals-fall2017-materials/classes/05-intro-r'"
      ]
     },
     "execution_count": 8,
     "metadata": {},
     "output_type": "execute_result"
    }
   ],
   "source": [
    "directory=\"/Users/jasonkuruzovich/githubdesktop/0_class/techfundamentals-fall2017-materials\"\n",
    "subdirectory=\"classes/05-intro-r\"\n",
    "d=directory+\"/\"+subdirectory \n",
    "d\n"
   ]
  },
  {
   "cell_type": "code",
   "execution_count": null,
   "metadata": {
    "collapsed": true
   },
   "outputs": [],
   "source": [
    "/Users/jasonkuruzovich/githubdesktop/0_class/techfundamentals-fall2017-materials/classes/05-intro-r"
   ]
  },
  {
   "cell_type": "code",
   "execution_count": 20,
   "metadata": {},
   "outputs": [
    {
     "name": "stdout",
     "output_type": "stream",
     "text": [
      "/Users/jasonkuruzovich/githubdesktop/0_class/techfundamentals-fall2017-materials/classes/05-intro-r/01-intro-r-overview.ipynb\r\n",
      "/Users/jasonkuruzovich/githubdesktop/0_class/techfundamentals-fall2017-materials/classes/05-intro-r/02-intro-r-localfile.ipynb\r\n",
      "/Users/jasonkuruzovich/githubdesktop/0_class/techfundamentals-fall2017-materials/classes/05-intro-r/03-intro-r-datastructures.ipynb\r\n",
      "/Users/jasonkuruzovich/githubdesktop/0_class/techfundamentals-fall2017-materials/classes/05-intro-r/04-intro-r-dataframes.ipynb\r\n",
      "/Users/jasonkuruzovich/githubdesktop/0_class/techfundamentals-fall2017-materials/classes/05-intro-r/05-intro-r-functions.ipynb\r\n",
      "/Users/jasonkuruzovich/githubdesktop/0_class/techfundamentals-fall2017-materials/classes/05-intro-r/06-intro-r-conditionals-loops.ipynb\r\n",
      "/Users/jasonkuruzovich/githubdesktop/0_class/techfundamentals-fall2017-materials/classes/05-intro-r/07-intro-r-merge-agg-fun.ipynb\r\n",
      "/Users/jasonkuruzovich/githubdesktop/0_class/techfundamentals-fall2017-materials/classes/05-intro-r/08-intro-r-tidyverse.ipynb\r\n",
      "/Users/jasonkuruzovich/githubdesktop/0_class/techfundamentals-fall2017-materials/classes/05-intro-r/09-titanic-intro.ipynb\r\n"
     ]
    }
   ],
   "source": [
    "!ls /Users/jasonkuruzovich/githubdesktop/0_class/techfundamentals-fall2017-materials/classes/05-intro-r/*"
   ]
  },
  {
   "cell_type": "code",
   "execution_count": 4,
   "metadata": {},
   "outputs": [
    {
     "name": "stdout",
     "output_type": "stream",
     "text": [
      "$d/*\n"
     ]
    }
   ],
   "source": [
    "%%bash -s \"$d\"\n",
    "for entry in \"$1\"/*\n",
    "do\n",
    "  echo \"$entry\"\n",
    "#  echo jupyter  nbconvert --to slides \"$file\" --reveal-prefix \"http://cdn.jsdelivr.net/reveal.js/3.0.0\"\n",
    "done"
   ]
  },
  {
   "cell_type": "code",
   "execution_count": 1,
   "metadata": {},
   "outputs": [
    {
     "name": "stderr",
     "output_type": "stream",
     "text": [
      "Traceback (most recent call last):\n",
      "  File \"//anaconda/bin/jupyter-nbconvert\", line 6, in <module>\n",
      "    from pkg_resources import load_entry_point\n",
      "  File \"<frozen importlib._bootstrap>\", line 969, in _find_and_load\n",
      "  File \"<frozen importlib._bootstrap>\", line 958, in _find_and_load_unlocked\n",
      "  File \"<frozen importlib._bootstrap>\", line 664, in _load_unlocked\n",
      "  File \"<frozen importlib._bootstrap>\", line 634, in _load_backward_compatible\n",
      "  File \"//anaconda/lib/python3.5/site-packages/setuptools-27.2.0-py3.5.egg/pkg_resources/__init__.py\", line 2985, in <module>\n",
      "  File \"//anaconda/lib/python3.5/site-packages/setuptools-27.2.0-py3.5.egg/pkg_resources/__init__.py\", line 2971, in _call_aside\n",
      "  File \"//anaconda/lib/python3.5/site-packages/setuptools-27.2.0-py3.5.egg/pkg_resources/__init__.py\", line 2998, in _initialize_master_working_set\n",
      "  File \"//anaconda/lib/python3.5/site-packages/setuptools-27.2.0-py3.5.egg/pkg_resources/__init__.py\", line 660, in _build_master\n",
      "  File \"//anaconda/lib/python3.5/site-packages/setuptools-27.2.0-py3.5.egg/pkg_resources/__init__.py\", line 968, in require\n",
      "  File \"//anaconda/lib/python3.5/site-packages/setuptools-27.2.0-py3.5.egg/pkg_resources/__init__.py\", line 854, in resolve\n",
      "pkg_resources.DistributionNotFound: The 'entrypoints>=0.2.2' distribution was not found and is required by nbconvert\n"
     ]
    }
   ],
   "source": [
    "%%bash -s \"$d\"\n",
    "for file in \"$1\"/*\n",
    "  do\n",
    "    jupyter  nbconvert --to slides \"$file\" --reveal-prefix \"http://cdn.jsdelivr.net/reveal.js/3.0.0\"\n",
    "  done"
   ]
  },
  {
   "cell_type": "code",
   "execution_count": 11,
   "metadata": {},
   "outputs": [
    {
     "name": "stdout",
     "output_type": "stream",
     "text": [
      "Traceback (most recent call last):\r\n",
      "  File \"//anaconda/bin/jupyter-nbconvert\", line 6, in <module>\r\n",
      "    from pkg_resources import load_entry_point\r\n",
      "  File \"<frozen importlib._bootstrap>\", line 969, in _find_and_load\r\n",
      "  File \"<frozen importlib._bootstrap>\", line 958, in _find_and_load_unlocked\r\n",
      "  File \"<frozen importlib._bootstrap>\", line 664, in _load_unlocked\r\n",
      "  File \"<frozen importlib._bootstrap>\", line 634, in _load_backward_compatible\r\n",
      "  File \"//anaconda/lib/python3.5/site-packages/setuptools-27.2.0-py3.5.egg/pkg_resources/__init__.py\", line 2985, in <module>\r\n",
      "  File \"//anaconda/lib/python3.5/site-packages/setuptools-27.2.0-py3.5.egg/pkg_resources/__init__.py\", line 2971, in _call_aside\r\n",
      "  File \"//anaconda/lib/python3.5/site-packages/setuptools-27.2.0-py3.5.egg/pkg_resources/__init__.py\", line 2998, in _initialize_master_working_set\r\n",
      "  File \"//anaconda/lib/python3.5/site-packages/setuptools-27.2.0-py3.5.egg/pkg_resources/__init__.py\", line 660, in _build_master\r\n",
      "  File \"//anaconda/lib/python3.5/site-packages/setuptools-27.2.0-py3.5.egg/pkg_resources/__init__.py\", line 968, in require\r\n",
      "  File \"//anaconda/lib/python3.5/site-packages/setuptools-27.2.0-py3.5.egg/pkg_resources/__init__.py\", line 854, in resolve\r\n",
      "pkg_resources.DistributionNotFound: The 'entrypoints>=0.2.2' distribution was not found and is required by nbconvert\r\n"
     ]
    }
   ],
   "source": [
    "!jupyter  nbconvert --to slides /Users/jasonkuruzovich/githubdesktop/0_class/techfundamentals-fall2017-materials/classes/05-intro-r/01-intro-r-overview.ipynb--reveal-prefix \"http://cdn.jsdelivr.net/reveal.js/3.0.0\""
   ]
  },
  {
   "cell_type": "code",
   "execution_count": 4,
   "metadata": {},
   "outputs": [
    {
     "name": "stderr",
     "output_type": "stream",
     "text": [
      "Traceback (most recent call last):\n",
      "  File \"//anaconda/bin/jupyter-nbconvert\", line 6, in <module>\n",
      "    from pkg_resources import load_entry_point\n",
      "  File \"<frozen importlib._bootstrap>\", line 969, in _find_and_load\n",
      "  File \"<frozen importlib._bootstrap>\", line 958, in _find_and_load_unlocked\n",
      "  File \"<frozen importlib._bootstrap>\", line 664, in _load_unlocked\n",
      "  File \"<frozen importlib._bootstrap>\", line 634, in _load_backward_compatible\n",
      "  File \"//anaconda/lib/python3.5/site-packages/setuptools-27.2.0-py3.5.egg/pkg_resources/__init__.py\", line 2985, in <module>\n",
      "  File \"//anaconda/lib/python3.5/site-packages/setuptools-27.2.0-py3.5.egg/pkg_resources/__init__.py\", line 2971, in _call_aside\n",
      "  File \"//anaconda/lib/python3.5/site-packages/setuptools-27.2.0-py3.5.egg/pkg_resources/__init__.py\", line 2998, in _initialize_master_working_set\n",
      "  File \"//anaconda/lib/python3.5/site-packages/setuptools-27.2.0-py3.5.egg/pkg_resources/__init__.py\", line 660, in _build_master\n",
      "  File \"//anaconda/lib/python3.5/site-packages/setuptools-27.2.0-py3.5.egg/pkg_resources/__init__.py\", line 968, in require\n",
      "  File \"//anaconda/lib/python3.5/site-packages/setuptools-27.2.0-py3.5.egg/pkg_resources/__init__.py\", line 854, in resolve\n",
      "pkg_resources.DistributionNotFound: The 'entrypoints>=0.2.2' distribution was not found and is required by nbconvert\n",
      "Traceback (most recent call last):\n",
      "  File \"//anaconda/bin/jupyter-nbconvert\", line 6, in <module>\n",
      "    from pkg_resources import load_entry_point\n",
      "  File \"<frozen importlib._bootstrap>\", line 969, in _find_and_load\n",
      "  File \"<frozen importlib._bootstrap>\", line 958, in _find_and_load_unlocked\n",
      "  File \"<frozen importlib._bootstrap>\", line 664, in _load_unlocked\n",
      "  File \"<frozen importlib._bootstrap>\", line 634, in _load_backward_compatible\n",
      "  File \"//anaconda/lib/python3.5/site-packages/setuptools-27.2.0-py3.5.egg/pkg_resources/__init__.py\", line 2985, in <module>\n",
      "  File \"//anaconda/lib/python3.5/site-packages/setuptools-27.2.0-py3.5.egg/pkg_resources/__init__.py\", line 2971, in _call_aside\n",
      "  File \"//anaconda/lib/python3.5/site-packages/setuptools-27.2.0-py3.5.egg/pkg_resources/__init__.py\", line 2998, in _initialize_master_working_set\n",
      "  File \"//anaconda/lib/python3.5/site-packages/setuptools-27.2.0-py3.5.egg/pkg_resources/__init__.py\", line 660, in _build_master\n",
      "  File \"//anaconda/lib/python3.5/site-packages/setuptools-27.2.0-py3.5.egg/pkg_resources/__init__.py\", line 968, in require\n",
      "  File \"//anaconda/lib/python3.5/site-packages/setuptools-27.2.0-py3.5.egg/pkg_resources/__init__.py\", line 854, in resolve\n",
      "pkg_resources.DistributionNotFound: The 'entrypoints>=0.2.2' distribution was not found and is required by nbconvert\n",
      "Traceback (most recent call last):\n",
      "  File \"//anaconda/bin/jupyter-nbconvert\", line 6, in <module>\n",
      "    from pkg_resources import load_entry_point\n",
      "  File \"<frozen importlib._bootstrap>\", line 969, in _find_and_load\n",
      "  File \"<frozen importlib._bootstrap>\", line 958, in _find_and_load_unlocked\n",
      "  File \"<frozen importlib._bootstrap>\", line 664, in _load_unlocked\n",
      "  File \"<frozen importlib._bootstrap>\", line 634, in _load_backward_compatible\n",
      "  File \"//anaconda/lib/python3.5/site-packages/setuptools-27.2.0-py3.5.egg/pkg_resources/__init__.py\", line 2985, in <module>\n",
      "  File \"//anaconda/lib/python3.5/site-packages/setuptools-27.2.0-py3.5.egg/pkg_resources/__init__.py\", line 2971, in _call_aside\n",
      "  File \"//anaconda/lib/python3.5/site-packages/setuptools-27.2.0-py3.5.egg/pkg_resources/__init__.py\", line 2998, in _initialize_master_working_set\n",
      "  File \"//anaconda/lib/python3.5/site-packages/setuptools-27.2.0-py3.5.egg/pkg_resources/__init__.py\", line 660, in _build_master\n",
      "  File \"//anaconda/lib/python3.5/site-packages/setuptools-27.2.0-py3.5.egg/pkg_resources/__init__.py\", line 968, in require\n",
      "  File \"//anaconda/lib/python3.5/site-packages/setuptools-27.2.0-py3.5.egg/pkg_resources/__init__.py\", line 854, in resolve\n",
      "pkg_resources.DistributionNotFound: The 'entrypoints>=0.2.2' distribution was not found and is required by nbconvert\n",
      "Traceback (most recent call last):\n",
      "  File \"//anaconda/bin/jupyter-nbconvert\", line 6, in <module>\n",
      "    from pkg_resources import load_entry_point\n",
      "  File \"<frozen importlib._bootstrap>\", line 969, in _find_and_load\n",
      "  File \"<frozen importlib._bootstrap>\", line 958, in _find_and_load_unlocked\n",
      "  File \"<frozen importlib._bootstrap>\", line 664, in _load_unlocked\n",
      "  File \"<frozen importlib._bootstrap>\", line 634, in _load_backward_compatible\n",
      "  File \"//anaconda/lib/python3.5/site-packages/setuptools-27.2.0-py3.5.egg/pkg_resources/__init__.py\", line 2985, in <module>\n",
      "  File \"//anaconda/lib/python3.5/site-packages/setuptools-27.2.0-py3.5.egg/pkg_resources/__init__.py\", line 2971, in _call_aside\n",
      "  File \"//anaconda/lib/python3.5/site-packages/setuptools-27.2.0-py3.5.egg/pkg_resources/__init__.py\", line 2998, in _initialize_master_working_set\n",
      "  File \"//anaconda/lib/python3.5/site-packages/setuptools-27.2.0-py3.5.egg/pkg_resources/__init__.py\", line 660, in _build_master\n",
      "  File \"//anaconda/lib/python3.5/site-packages/setuptools-27.2.0-py3.5.egg/pkg_resources/__init__.py\", line 968, in require\n",
      "  File \"//anaconda/lib/python3.5/site-packages/setuptools-27.2.0-py3.5.egg/pkg_resources/__init__.py\", line 854, in resolve\n",
      "pkg_resources.DistributionNotFound: The 'entrypoints>=0.2.2' distribution was not found and is required by nbconvert\n",
      "Traceback (most recent call last):\n",
      "  File \"//anaconda/bin/jupyter-nbconvert\", line 6, in <module>\n",
      "    from pkg_resources import load_entry_point\n",
      "  File \"<frozen importlib._bootstrap>\", line 969, in _find_and_load\n",
      "  File \"<frozen importlib._bootstrap>\", line 958, in _find_and_load_unlocked\n",
      "  File \"<frozen importlib._bootstrap>\", line 664, in _load_unlocked\n",
      "  File \"<frozen importlib._bootstrap>\", line 634, in _load_backward_compatible\n",
      "  File \"//anaconda/lib/python3.5/site-packages/setuptools-27.2.0-py3.5.egg/pkg_resources/__init__.py\", line 2985, in <module>\n",
      "  File \"//anaconda/lib/python3.5/site-packages/setuptools-27.2.0-py3.5.egg/pkg_resources/__init__.py\", line 2971, in _call_aside\n",
      "  File \"//anaconda/lib/python3.5/site-packages/setuptools-27.2.0-py3.5.egg/pkg_resources/__init__.py\", line 2998, in _initialize_master_working_set\n",
      "  File \"//anaconda/lib/python3.5/site-packages/setuptools-27.2.0-py3.5.egg/pkg_resources/__init__.py\", line 660, in _build_master\n",
      "  File \"//anaconda/lib/python3.5/site-packages/setuptools-27.2.0-py3.5.egg/pkg_resources/__init__.py\", line 968, in require\n",
      "  File \"//anaconda/lib/python3.5/site-packages/setuptools-27.2.0-py3.5.egg/pkg_resources/__init__.py\", line 854, in resolve\n",
      "pkg_resources.DistributionNotFound: The 'entrypoints>=0.2.2' distribution was not found and is required by nbconvert\n",
      "Traceback (most recent call last):\n",
      "  File \"//anaconda/bin/jupyter-nbconvert\", line 6, in <module>\n",
      "    from pkg_resources import load_entry_point\n",
      "  File \"<frozen importlib._bootstrap>\", line 969, in _find_and_load\n",
      "  File \"<frozen importlib._bootstrap>\", line 958, in _find_and_load_unlocked\n",
      "  File \"<frozen importlib._bootstrap>\", line 664, in _load_unlocked\n",
      "  File \"<frozen importlib._bootstrap>\", line 634, in _load_backward_compatible\n",
      "  File \"//anaconda/lib/python3.5/site-packages/setuptools-27.2.0-py3.5.egg/pkg_resources/__init__.py\", line 2985, in <module>\n",
      "  File \"//anaconda/lib/python3.5/site-packages/setuptools-27.2.0-py3.5.egg/pkg_resources/__init__.py\", line 2971, in _call_aside\n",
      "  File \"//anaconda/lib/python3.5/site-packages/setuptools-27.2.0-py3.5.egg/pkg_resources/__init__.py\", line 2998, in _initialize_master_working_set\n",
      "  File \"//anaconda/lib/python3.5/site-packages/setuptools-27.2.0-py3.5.egg/pkg_resources/__init__.py\", line 660, in _build_master\n",
      "  File \"//anaconda/lib/python3.5/site-packages/setuptools-27.2.0-py3.5.egg/pkg_resources/__init__.py\", line 968, in require\n",
      "  File \"//anaconda/lib/python3.5/site-packages/setuptools-27.2.0-py3.5.egg/pkg_resources/__init__.py\", line 854, in resolve\n",
      "pkg_resources.DistributionNotFound: The 'entrypoints>=0.2.2' distribution was not found and is required by nbconvert\n",
      "Traceback (most recent call last):\n",
      "  File \"//anaconda/bin/jupyter-nbconvert\", line 6, in <module>\n",
      "    from pkg_resources import load_entry_point\n",
      "  File \"<frozen importlib._bootstrap>\", line 969, in _find_and_load\n",
      "  File \"<frozen importlib._bootstrap>\", line 958, in _find_and_load_unlocked\n",
      "  File \"<frozen importlib._bootstrap>\", line 664, in _load_unlocked\n",
      "  File \"<frozen importlib._bootstrap>\", line 634, in _load_backward_compatible\n",
      "  File \"//anaconda/lib/python3.5/site-packages/setuptools-27.2.0-py3.5.egg/pkg_resources/__init__.py\", line 2985, in <module>\n",
      "  File \"//anaconda/lib/python3.5/site-packages/setuptools-27.2.0-py3.5.egg/pkg_resources/__init__.py\", line 2971, in _call_aside\n",
      "  File \"//anaconda/lib/python3.5/site-packages/setuptools-27.2.0-py3.5.egg/pkg_resources/__init__.py\", line 2998, in _initialize_master_working_set\n",
      "  File \"//anaconda/lib/python3.5/site-packages/setuptools-27.2.0-py3.5.egg/pkg_resources/__init__.py\", line 660, in _build_master\n",
      "  File \"//anaconda/lib/python3.5/site-packages/setuptools-27.2.0-py3.5.egg/pkg_resources/__init__.py\", line 968, in require\n",
      "  File \"//anaconda/lib/python3.5/site-packages/setuptools-27.2.0-py3.5.egg/pkg_resources/__init__.py\", line 854, in resolve\n",
      "pkg_resources.DistributionNotFound: The 'entrypoints>=0.2.2' distribution was not found and is required by nbconvert\n",
      "Traceback (most recent call last):\n",
      "  File \"//anaconda/bin/jupyter-nbconvert\", line 6, in <module>\n",
      "    from pkg_resources import load_entry_point\n",
      "  File \"<frozen importlib._bootstrap>\", line 969, in _find_and_load\n",
      "  File \"<frozen importlib._bootstrap>\", line 958, in _find_and_load_unlocked\n",
      "  File \"<frozen importlib._bootstrap>\", line 664, in _load_unlocked\n",
      "  File \"<frozen importlib._bootstrap>\", line 634, in _load_backward_compatible\n",
      "  File \"//anaconda/lib/python3.5/site-packages/setuptools-27.2.0-py3.5.egg/pkg_resources/__init__.py\", line 2985, in <module>\n",
      "  File \"//anaconda/lib/python3.5/site-packages/setuptools-27.2.0-py3.5.egg/pkg_resources/__init__.py\", line 2971, in _call_aside\n",
      "  File \"//anaconda/lib/python3.5/site-packages/setuptools-27.2.0-py3.5.egg/pkg_resources/__init__.py\", line 2998, in _initialize_master_working_set\n",
      "  File \"//anaconda/lib/python3.5/site-packages/setuptools-27.2.0-py3.5.egg/pkg_resources/__init__.py\", line 660, in _build_master\n",
      "  File \"//anaconda/lib/python3.5/site-packages/setuptools-27.2.0-py3.5.egg/pkg_resources/__init__.py\", line 968, in require\n",
      "  File \"//anaconda/lib/python3.5/site-packages/setuptools-27.2.0-py3.5.egg/pkg_resources/__init__.py\", line 854, in resolve\n",
      "pkg_resources.DistributionNotFound: The 'entrypoints>=0.2.2' distribution was not found and is required by nbconvert\n",
      "Traceback (most recent call last):\n",
      "  File \"//anaconda/bin/jupyter-nbconvert\", line 6, in <module>\n",
      "    from pkg_resources import load_entry_point\n",
      "  File \"<frozen importlib._bootstrap>\", line 969, in _find_and_load\n",
      "  File \"<frozen importlib._bootstrap>\", line 958, in _find_and_load_unlocked\n",
      "  File \"<frozen importlib._bootstrap>\", line 664, in _load_unlocked\n",
      "  File \"<frozen importlib._bootstrap>\", line 634, in _load_backward_compatible\n",
      "  File \"//anaconda/lib/python3.5/site-packages/setuptools-27.2.0-py3.5.egg/pkg_resources/__init__.py\", line 2985, in <module>\n",
      "  File \"//anaconda/lib/python3.5/site-packages/setuptools-27.2.0-py3.5.egg/pkg_resources/__init__.py\", line 2971, in _call_aside\n",
      "  File \"//anaconda/lib/python3.5/site-packages/setuptools-27.2.0-py3.5.egg/pkg_resources/__init__.py\", line 2998, in _initialize_master_working_set\n",
      "  File \"//anaconda/lib/python3.5/site-packages/setuptools-27.2.0-py3.5.egg/pkg_resources/__init__.py\", line 660, in _build_master\n",
      "  File \"//anaconda/lib/python3.5/site-packages/setuptools-27.2.0-py3.5.egg/pkg_resources/__init__.py\", line 968, in require\n",
      "  File \"//anaconda/lib/python3.5/site-packages/setuptools-27.2.0-py3.5.egg/pkg_resources/__init__.py\", line 854, in resolve\n",
      "pkg_resources.DistributionNotFound: The 'entrypoints>=0.2.2' distribution was not found and is required by nbconvert\n"
     ]
    }
   ],
   "source": [
    "%%bash -s \"$d\"\n",
    "for file in $1\n",
    "  do\n",
    "    jupyter  nbconvert --to slides \"$file\" --reveal-prefix \"http://cdn.jsdelivr.net/reveal.js/3.0.0\"\n",
    "  done"
   ]
  },
  {
   "cell_type": "code",
   "execution_count": 2,
   "metadata": {},
   "outputs": [
    {
     "name": "stderr",
     "output_type": "stream",
     "text": [
      "Traceback (most recent call last):\n",
      "  File \"//anaconda/bin/jupyter-nbconvert\", line 6, in <module>\n",
      "    from pkg_resources import load_entry_point\n",
      "  File \"<frozen importlib._bootstrap>\", line 969, in _find_and_load\n",
      "  File \"<frozen importlib._bootstrap>\", line 958, in _find_and_load_unlocked\n",
      "  File \"<frozen importlib._bootstrap>\", line 664, in _load_unlocked\n",
      "  File \"<frozen importlib._bootstrap>\", line 634, in _load_backward_compatible\n",
      "  File \"//anaconda/lib/python3.5/site-packages/setuptools-27.2.0-py3.5.egg/pkg_resources/__init__.py\", line 2985, in <module>\n",
      "  File \"//anaconda/lib/python3.5/site-packages/setuptools-27.2.0-py3.5.egg/pkg_resources/__init__.py\", line 2971, in _call_aside\n",
      "  File \"//anaconda/lib/python3.5/site-packages/setuptools-27.2.0-py3.5.egg/pkg_resources/__init__.py\", line 2998, in _initialize_master_working_set\n",
      "  File \"//anaconda/lib/python3.5/site-packages/setuptools-27.2.0-py3.5.egg/pkg_resources/__init__.py\", line 660, in _build_master\n",
      "  File \"//anaconda/lib/python3.5/site-packages/setuptools-27.2.0-py3.5.egg/pkg_resources/__init__.py\", line 968, in require\n",
      "  File \"//anaconda/lib/python3.5/site-packages/setuptools-27.2.0-py3.5.egg/pkg_resources/__init__.py\", line 854, in resolve\n",
      "pkg_resources.DistributionNotFound: The 'entrypoints>=0.2.2' distribution was not found and is required by nbconvert\n"
     ]
    }
   ],
   "source": [
    "%%bash -s \"$d\"\n",
    "for file in $1\n",
    "  do\n",
    "    jupyter  nbconvert --to slides \"$file\" --reveal-prefix \"http://cdn.jsdelivr.net/reveal.js/3.0.0\"\n",
    "  done"
   ]
  },
  {
   "cell_type": "code",
   "execution_count": null,
   "metadata": {
    "collapsed": true
   },
   "outputs": [],
   "source": [
    "#TBD Publish to website."
   ]
  }
 ],
 "metadata": {
  "anaconda-cloud": {},
  "kernelspec": {
   "display_name": "Python [ad]",
   "language": "python",
   "name": "Python [ad]"
  },
  "language_info": {
   "codemirror_mode": {
    "name": "ipython",
    "version": 3
   },
   "file_extension": ".py",
   "mimetype": "text/x-python",
   "name": "python",
   "nbconvert_exporter": "python",
   "pygments_lexer": "ipython3",
   "version": "3.5.3"
  }
 },
 "nbformat": 4,
 "nbformat_minor": 2
}
